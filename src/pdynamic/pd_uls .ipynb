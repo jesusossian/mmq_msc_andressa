{
 "cells": [
  {
   "cell_type": "markdown",
   "metadata": {
    "id": "c79a99fe"
   },
   "source": [
    "# **Modelo Matemático da Programação Dinâmica (PD) para o Problema ULS**\n",
    "\n",
    "## **1. Formulação do Problema**\n",
    "\n",
    "### **Parâmetros:**\n",
    "- $n$: número de períodos\n",
    "- $k$: período final considerado (recursão)  \n",
    "- $d_t$: demanda no período $t$ ($t = 1, \\ldots, n$)  \n",
    "- $f_t$: custo fixo de setup no período $t$  \n",
    "- $c_t$: custo variável de produção no período $t$  \n",
    "- $h_t$: custo de estoque por unidade no período $t$  \n",
    " OBS: $k$ também pode significar o último período do problema, então $k$=$n$.\n",
    "\n",
    "### **Variáveis de Decisão:**\n",
    "- $x_t$: quantidade produzida no período $t$  \n",
    "- $s_t$: estoque no final do período $t$  \n",
    "- $y_t$: variável binária indicando produção no período $t$ ($y_t=1$ se $x_t > 0$, $y_t=0$ caso contrário)\n",
    "\n",
    "* * *\n",
    "\n",
    "## **2. Formulação de Programação Dinâmica (Wagner-Whitin)**\n",
    "\n",
    "### **2.1 Definições Fundamentais**\n",
    "\n",
    "**Demanda Acumulada:**\\\n",
    "$$\n",
    "S_k = \\sum_{t=1}^{k} d_t \\quad \\text{para } k = 0, 1, \\ldots, n \\quad \\text{com } S_0 = 0\n",
    "$$\n",
    "\n",
    "**Função de Custo Mínimo:**\\\n",
    "$$\n",
    "F(k) = \\text{custo mínimo para atender as demandas dos primeiros } k \\text{ períodos}\n",
    "$$\n",
    "\n",
    "**Condição Inicial:**\\\n",
    "$$\n",
    "F(0) = 0\n",
    "$$\n",
    "\n",
    "* * *\n",
    "\n",
    "### **2.2 Recursão Principal**\n",
    "\n",
    "Para $k = 1, 2, \\ldots, n$:\\\n",
    "$$\n",
    "F(k) = \\min_{0 \\leq j < k} \\left\\{ F(j) + C(j+1, k) \\right\\}\n",
    "$$\n",
    "\n",
    "Onde $C(j+1, k)$ é o custo de **produzir no período $j+1$** para atender as demandas dos períodos $j+1$ até $k$:\n",
    "\n",
    "$$\n",
    "C(j+1, k) = f_{j+1} + c_{j+1} \\cdot (S_k - S_j) + \\sum_{t=j+1}^{k-1} h_t \\cdot (S_k - S_t)\n",
    "$$\n",
    "\n",
    "E $F(j)$ é o menor custo possível para satisfazer toda a demanda acumulando até o período $j$.\n",
    "\n",
    "OBS: O $F(j)$ ele \"guarda a melhor solução até o período $j$, sem olhar ainda o que vem depois. Ele é quem é utilizado quando a recursão $F(k)$ é caalculada.\n",
    "* * *\n",
    "\n",
    "### **2.3 Decomposição do Custo $C(j+1, k)$**\n",
    "\n",
    "**1. Custo Fixo de Setup:**\\\n",
    "$$f_{j+1}$$\n",
    "\n",
    "**2. Custo Variável de Produção:**\\\n",
    "$$c_{j+1} \\cdot (S_k - S_j) = c_{j+1} \\cdot \\sum_{t=j+1}^{k} d_t$$\n",
    "\n",
    "**3. Custo de Estoque:**\\\n",
    "$$\\sum_{t=j+1}^{k-1} h_t \\cdot (S_k - S_t) = \\sum_{t=j+1}^{k-1} h_t \\cdot \\sum_{m=t+1}^{k} d_m$$\n",
    "\n",
    "* * *\n",
    "\n",
    "### **2.4 Interpretação do Custo de Estoque**\n",
    "\n",
    "O termo $h_t \\cdot (S_k - S_t)$ representa:  \n",
    "- $S_k - S_t = d_{t+1} + d_{t+2} + \\cdots + d_k$: demanda total dos períodos futuros  \n",
    "- Cada unidade demandada no período $m$ ($m > t$) fica em estoque durante os períodos $t, t+1, \\ldots, m-1$  \n",
    "- O custo acumulado por unidade é $h_t + h_{t+1} + \\cdots + h_{m-1}$  \n",
    "\n",
    "* * *\n",
    "\n",
    "## **3. Formulação Matemática Completa**\n",
    "\n",
    "### **3.1 Função Objetivo da PD**\n",
    "$$\n",
    "F(k) = \\min_{0 \\leq j < k} \\left\\{ F(j) + f_{j+1} + c_{j+1}(S_k - S_j) + \\sum_{t=j+1}^{k-1} h_t(S_k - S_t) \\right\\}\n",
    "$$\n",
    "\n",
    "### **3.2 Restrições Implícitas**\n",
    "1. **Conservação de estoque**: A produção em $j+1$ deve atender toda a demanda de $j+1$ até $k$  \n",
    "2. **Estoque final zero**: $s_n = 0$ (garantido pela estrutura da PD)  \n",
    "3. **Não-negatividade**: $x_t \\geq 0, s_t \\geq 0$ (implícito na formulação)  \n",
    "\n",
    "* * *\n",
    "\n",
    "## **4. Relação com a Formulação MIP**\n",
    "\n",
    "A programação dinâmica **resolve exatamente o mesmo problema** que a formulação MIP padrão para o ULS.\n",
    "\n",
    "### **Formulação MIP Padrão**\n",
    "\n",
    "**Função Objetivo:**\n",
    "$$\n",
    "\\text{Minimizar } \\sum_{t=1}^{n} (p_t x_t + h_t s_t + f_t y_t)\n",
    "$$\n",
    "\n",
    "**Sujeito a:**\n",
    "1. **Balanço de Estoque:** Para $t = 1, \\ldots, n$:\n",
    "   $$\n",
    "   s_{t-1} + x_t = d_t + s_t \\quad \\text{com } s_0 = 0\n",
    "   $$\n",
    "2. **Restrição de Produção/Setup (Big M):** Para $t = 1, \\ldots, n$:\n",
    "   $$\n",
    "   x_t \\leq M y_t \\quad \\text{onde M é um limite superior grande para } x_t \\text{ (ex: demanda total acumulada)}\n",
    "   $$\n",
    "3. **Não-negatividade:** Para $t = 1, \\ldots, n$:\n",
    "   $$\n",
    "   x_t \\geq 0\n",
    "   $$\n",
    "   $$\n",
    "   s_t \\geq 0\n",
    "   $$\n",
    "4. **Binariedade:** Para $t = 1, \\ldots, n$:\n",
    "   $$\n",
    "   y_t \\in \\{0, 1\\}\n",
    "   $$"
   ]
  },
  {
   "cell_type": "code",
   "execution_count": 34,
   "metadata": {
    "colab": {
     "base_uri": "https://localhost:8080/"
    },
    "executionInfo": {
     "elapsed": 1595,
     "status": "ok",
     "timestamp": 1758732936012,
     "user": {
      "displayName": "Paula Andressa Nascimento Lucas",
      "userId": "16052357737294530810"
     },
     "user_tz": 180
    },
    "id": "_Xdrr1laR2yD",
    "outputId": "0c1ae6a1-0361-4e8e-f842-2422f29bfa49"
   },
   "outputs": [
    {
     "name": "stdout",
     "output_type": "stream",
     "text": [
      "Drive already mounted at /content/drive; to attempt to forcibly remount, call drive.mount(\"/content/drive\", force_remount=True).\n"
     ]
    }
   ],
   "source": [
    "from google.colab import drive\n",
    "drive.mount('/content/drive')"
   ]
  },
  {
   "cell_type": "code",
   "execution_count": 8,
   "metadata": {
    "executionInfo": {
     "elapsed": 47,
     "status": "ok",
     "timestamp": 1758732936015,
     "user": {
      "displayName": "Paula Andressa Nascimento Lucas",
      "userId": "16052357737294530810"
     },
     "user_tz": 180
    },
    "id": "qYDOyqIWp0Fm"
   },
   "outputs": [],
   "source": [
    "import os, time, re\n",
    "import numpy as np\n",
    "import pandas as pd # importar pandas para salvar resultados\n",
    "\n",
    "# configuração dos caminhos\n",
    "folder_path = \"/home/jossian/repository/mmq_msc_andressa/data/uls/\"\n",
    "result_path = \"result\"\n",
    "os.makedirs(result_path, exist_ok=True)"
   ]
  },
  {
   "cell_type": "code",
   "execution_count": 9,
   "metadata": {
    "executionInfo": {
     "elapsed": 45,
     "status": "ok",
     "timestamp": 1758732936016,
     "user": {
      "displayName": "Paula Andressa Nascimento Lucas",
      "userId": "16052357737294530810"
     },
     "user_tz": 180
    },
    "id": "YIPRNzQJjp9g"
   },
   "outputs": [],
   "source": [
    "#ordem das linhas do arquivo\n",
    "#N = Número de períodos\n",
    "#H = Custo de setup (para cada periodo)\n",
    "#P = Custo de produção (para cada período)\n",
    "#F = Custo de estoque (para cada período)\n",
    "#D = Vetor contendo as demandas"
   ]
  },
  {
   "cell_type": "code",
   "execution_count": 10,
   "metadata": {
    "executionInfo": {
     "elapsed": 44,
     "status": "ok",
     "timestamp": 1758732936018,
     "user": {
      "displayName": "Paula Andressa Nascimento Lucas",
      "userId": "16052357737294530810"
     },
     "user_tz": 180
    },
    "id": "DTmf8-Bop7ac"
   },
   "outputs": [],
   "source": [
    "def readdata(datafile):\n",
    "    \"\"\"Lê os dados\"\"\"\n",
    "    path = os.path.join(folder_path, datafile)\n",
    "    with open(path, 'r') as file:\n",
    "        linhas = file.readlines()\n",
    "\n",
    "    # remove linha vazia inicial e elimina os \"\\n\" de cada linha\n",
    "    linhas = [a.strip() for a in linhas if a.strip() != \"\"]\n",
    "\n",
    "    # lendo o tamanho da instancia\n",
    "    N = int(float(linhas[0]))  # primeira linha é o número de períodos\n",
    "\n",
    "    # definindo vetores\n",
    "    H = np.zeros(N)\n",
    "    P = np.zeros(N)\n",
    "    F = np.zeros(N)\n",
    "    D = np.zeros(N)\n",
    "\n",
    "    # lendo e armazenando dados (mesma lógica do seu código)\n",
    "    F[0] = float(linhas[1])\n",
    "    for i in range(1, N):\n",
    "        F[i] = F[0]\n",
    "\n",
    "    H[0] = float(linhas[2])\n",
    "    for i in range(1, N):\n",
    "        H[i] = H[0]\n",
    "\n",
    "    P[0] = float(linhas[3])\n",
    "    for i in range(1, N):\n",
    "        P[i] = P[0]\n",
    "\n",
    "    # lendo demandas\n",
    "    demandas = linhas[4].split()\n",
    "    for i in range(min(N, len(demandas))):\n",
    "        D[i] = float(demandas[i])\n",
    "\n",
    "    return N, H, P, F, D"
   ]
  },
  {
   "cell_type": "code",
   "execution_count": 11,
   "metadata": {
    "executionInfo": {
     "elapsed": 30,
     "status": "ok",
     "timestamp": 1758732936020,
     "user": {
      "displayName": "Paula Andressa Nascimento Lucas",
      "userId": "16052357737294530810"
     },
     "user_tz": 180
    },
    "id": "RJdk2NrTqDAT"
   },
   "outputs": [],
   "source": [
    "def solve_uls_dynamic_simple(N, H, P, F, D):\n",
    "    \"\"\"\n",
    "    Programação dinâmica\n",
    "    Baseada na formulação de Wagner-Whitin\n",
    "    \"\"\"\n",
    "    # pré-calcular demandas acumuladas\n",
    "    S = np.zeros(N + 1)\n",
    "    for i in range(1, N + 1):\n",
    "        S[i] = S[i - 1] + D[i - 1]\n",
    "\n",
    "    # F[k] = custo mínimo para os primeiros k períodos\n",
    "    F_dp = np.full(N + 1, np.inf)\n",
    "    pred = np.full(N + 1, -1, dtype=int)\n",
    "    F_dp[0] = 0.0\n",
    "\n",
    "    for k in range(1, N + 1):\n",
    "        for j in range(0, k):  # j = 0, 1, ..., k-1\n",
    "            # qroduzir no período j+1 para atender j+1 até k\n",
    "            t = j + 1\n",
    "\n",
    "            # quantidade a produzir\n",
    "            quantity = S[k] - S[j]\n",
    "\n",
    "            # custo de produção\n",
    "            production_cost = F[t-1] + P[t-1] * quantity\n",
    "\n",
    "            # custo de estoque\n",
    "            # para cada período m de t+1 até k, a demanda D[m-1] fica em estoque\n",
    "            # desde o período t até m-1\n",
    "            holding_cost = 0.0\n",
    "            current_inventory = 0.0\n",
    "\n",
    "            # simular o acúmulo de estoque período a período\n",
    "            inventory = 0.0\n",
    "            for period in range(t, k + 1):\n",
    "                if period == t:\n",
    "                    # no período de produção, adiciona a quantidade produzida\n",
    "                    inventory += quantity\n",
    "\n",
    "                # subtrai a demanda do período\n",
    "                inventory -= D[period - 1]\n",
    "\n",
    "                # adiciona custo de estoque se inventory > 0\n",
    "                if period < k:  # estoque no final do período\n",
    "                    holding_cost += H[period - 1] * inventory\n",
    "\n",
    "\n",
    "            total_cost = F_dp[j] + production_cost + holding_cost\n",
    "\n",
    "            if total_cost < F_dp[k]:\n",
    "                F_dp[k] = total_cost\n",
    "                pred[k] = t\n",
    "\n",
    "    return F_dp[N], F_dp, pred, S"
   ]
  },
  {
   "cell_type": "code",
   "execution_count": 12,
   "metadata": {
    "executionInfo": {
     "elapsed": 25,
     "status": "ok",
     "timestamp": 1758732936022,
     "user": {
      "displayName": "Paula Andressa Nascimento Lucas",
      "userId": "16052357737294530810"
     },
     "user_tz": 180
    },
    "id": "AxJlRrxpqZQt"
   },
   "outputs": [],
   "source": [
    "def recover_plan(pred, S, D, N):\n",
    "    \"\"\"Recupera o plano de produção\"\"\"\n",
    "    x = np.zeros(N)\n",
    "    y = np.zeros(N)\n",
    "\n",
    "    k = N\n",
    "    production_periods = []\n",
    "\n",
    "    while k > 0:\n",
    "        t = pred[k]\n",
    "        production_periods.append(t)\n",
    "        x[t-1] = S[k] - S[t-1]\n",
    "        y[t-1] = 1\n",
    "        k = t - 1\n",
    "\n",
    "    # calcular estoques\n",
    "    s = np.zeros(N)\n",
    "    current_inv = 0.0\n",
    "    for i in range(N):\n",
    "        current_inv += x[i] - D[i]\n",
    "        s[i] = current_inv\n",
    "\n",
    "\n",
    "    return x, y, s"
   ]
  },
  {
   "cell_type": "code",
   "execution_count": 16,
   "metadata": {
    "executionInfo": {
     "elapsed": 5,
     "status": "ok",
     "timestamp": 1758732936029,
     "user": {
      "displayName": "Paula Andressa Nascimento Lucas",
      "userId": "16052357737294530810"
     },
     "user_tz": 180
    },
    "id": "Q2RMAVi9qjIk"
   },
   "outputs": [],
   "source": [
    "def main_dynamic(datafile):\n",
    "    \"\"\"Função principal da programação dinâmica\"\"\"\n",
    "    try:\n",
    "        # ler dados\n",
    "        N, H, P, F, D = readdata(datafile)\n",
    "\n",
    "        print(f\"\\n--- Processando Instância: {datafile} ---\")\n",
    "        # print(f\"Períodos: {N}\")\n",
    "        # print(f\"F = {F[0]}, P = {P[0]}, H = {H[0]}\")\n",
    "        # print(f\"Demanda total: {sum(D):.0f}\")\n",
    "\n",
    "        # resolver via PD\n",
    "        start_time = time.time()\n",
    "        objval, F_dp, pred, S = solve_uls_dynamic_simple(N, H, P, F, D)\n",
    "        end_time = time.time()\n",
    "        exec_time = end_time - start_time\n",
    "\n",
    "        # recuperar plano (opcional para o resumo, mas útil para debug)\n",
    "        # x, y, s = recover_plan(pred, S, D, N)\n",
    "\n",
    "\n",
    "        print(f\"  Custo ótimo calculado pela PD: {objval:.2f}\")\n",
    "        print(f\"  Tempo de execução da PD: {exec_time:.4f}s\")\n",
    "\n",
    "        # mostrar plano (removido para não poluir a saída com muitas instâncias)\n",
    "        # print(\"\\nPlano de produção:\")\n",
    "        # for i in range(N):\n",
    "        #     if x[i] > 0.001:\n",
    "        #         print(f\"  Período {i+1}: produzir {x[i]:.1f}, estoque final: {s[i]:.1f}\")\n",
    "\n",
    "        return datafile, objval, exec_time\n",
    "\n",
    "    except Exception as e:\n",
    "        print(f\"Erro ao processar {datafile}: {e}\")\n",
    "        return datafile, None, None, None, None, None, float('inf'), float('inf')\n"
   ]
  },
  {
   "cell_type": "code",
   "execution_count": 17,
   "metadata": {
    "colab": {
     "base_uri": "https://localhost:8080/"
    },
    "executionInfo": {
     "elapsed": 123,
     "status": "ok",
     "timestamp": 1758732936155,
     "user": {
      "displayName": "Paula Andressa Nascimento Lucas",
      "userId": "16052357737294530810"
     },
     "user_tz": 180
    },
    "id": "fuWWcJ7FW5wc",
    "outputId": "149d5ca0-1002-48ab-8d51-7bf68fe38b31"
   },
   "outputs": [
    {
     "name": "stdout",
     "output_type": "stream",
     "text": [
      "============================================================\n",
      "PROGRAMAÇÃO DINÂMICA - ULS (Processando todas as instâncias)\n",
      "============================================================\n",
      "\n",
      "--- Processando Instância: 52_1.txt ---\n",
      "  Custo ótimo calculado pela PD: 9269.20\n",
      "  Tempo de execução da PD: 0.0093s\n",
      "\n",
      "--- Processando Instância: 52_10.txt ---\n",
      "  Custo ótimo calculado pela PD: 12408.00\n",
      "  Tempo de execução da PD: 0.0091s\n",
      "\n",
      "--- Processando Instância: 52_2.txt ---\n",
      "  Custo ótimo calculado pela PD: 9263.40\n",
      "  Tempo de execução da PD: 0.0100s\n",
      "\n",
      "--- Processando Instância: 52_3.txt ---\n",
      "  Custo ótimo calculado pela PD: 9179.20\n",
      "  Tempo de execução da PD: 0.0095s\n",
      "\n",
      "--- Processando Instância: 52_4.txt ---\n",
      "  Custo ótimo calculado pela PD: 9687.00\n",
      "  Tempo de execução da PD: 0.0108s\n",
      "\n",
      "--- Processando Instância: 52_5.txt ---\n",
      "  Custo ótimo calculado pela PD: 11292.00\n",
      "  Tempo de execução da PD: 0.0111s\n",
      "\n",
      "--- Processando Instância: 52_6.txt ---\n",
      "  Custo ótimo calculado pela PD: 11347.50\n",
      "  Tempo de execução da PD: 0.0232s\n",
      "\n",
      "--- Processando Instância: 52_7.txt ---\n",
      "  Custo ótimo calculado pela PD: 11157.00\n",
      "  Tempo de execução da PD: 0.0112s\n",
      "\n",
      "--- Processando Instância: 52_8.txt ---\n",
      "  Custo ótimo calculado pela PD: 11223.00\n",
      "  Tempo de execução da PD: 0.0135s\n",
      "\n",
      "--- Processando Instância: 52_9.txt ---\n",
      "  Custo ótimo calculado pela PD: 12575.80\n",
      "  Tempo de execução da PD: 0.0094s\n"
     ]
    }
   ],
   "source": [
    "# execução principal\n",
    "if __name__ == \"__main__\":\n",
    "    print(\"=\" * 60)\n",
    "    print(\"PROGRAMAÇÃO DINÂMICA - ULS (Processando todas as instâncias)\")\n",
    "    print(\"=\" * 60)\n",
    "\n",
    "    results = []\n",
    "    total_time = 0\n",
    "    time_limit = 60 # limite de tempo em segundos\n",
    "\n",
    "    # listar todos os arquivos .txt na pasta de instâncias\n",
    "    instance_files = [f for f in os.listdir(folder_path) if f.endswith('.txt')]\n",
    "    instance_files.sort() # processar em ordem alfabética\n",
    "\n",
    "    for datafile in instance_files:\n",
    "        if total_time < time_limit:\n",
    "            file_path = os.path.join(folder_path, datafile)\n",
    "            if os.path.isfile(file_path): # garantir que é um arquivo\n",
    "                file_result = main_dynamic(datafile)\n",
    "                results.append(file_result)\n",
    "                total_time += file_result[-1] if file_result[-1] != float('inf') else 0 # adiciona tempo se não for erro\n",
    "        else:\n",
    "            print(f\"\\nLimite de tempo ({time_limit}s) atingido. Interrompendo processamento.\")\n",
    "            break\n",
    "\n",
    "    # criar um DataFrame com os resultados\n",
    "    results_df = pd.DataFrame(results, columns=['instance', 'optimal', 'time'])\n"
   ]
  },
  {
   "cell_type": "code",
   "execution_count": 19,
   "metadata": {
    "colab": {
     "base_uri": "https://localhost:8080/",
     "height": 492
    },
    "executionInfo": {
     "elapsed": 65,
     "status": "ok",
     "timestamp": 1758732936252,
     "user": {
      "displayName": "Paula Andressa Nascimento Lucas",
      "userId": "16052357737294530810"
     },
     "user_tz": 180
    },
    "id": "BSRS8swMroWa",
    "outputId": "6546269b-f5d8-483c-ad36-e7c52bb40298"
   },
   "outputs": [
    {
     "name": "stdout",
     "output_type": "stream",
     "text": [
      "\n",
      "============================================================\n",
      "RESUMO DOS RESULTADOS\n",
      "============================================================\n"
     ]
    },
    {
     "data": {
      "text/html": [
       "<div>\n",
       "<style scoped>\n",
       "    .dataframe tbody tr th:only-of-type {\n",
       "        vertical-align: middle;\n",
       "    }\n",
       "\n",
       "    .dataframe tbody tr th {\n",
       "        vertical-align: top;\n",
       "    }\n",
       "\n",
       "    .dataframe thead th {\n",
       "        text-align: right;\n",
       "    }\n",
       "</style>\n",
       "<table border=\"1\" class=\"dataframe\">\n",
       "  <thead>\n",
       "    <tr style=\"text-align: right;\">\n",
       "      <th></th>\n",
       "      <th>instance</th>\n",
       "      <th>optimal</th>\n",
       "      <th>time</th>\n",
       "    </tr>\n",
       "  </thead>\n",
       "  <tbody>\n",
       "    <tr>\n",
       "      <th>0</th>\n",
       "      <td>52_1.txt</td>\n",
       "      <td>9269.2</td>\n",
       "      <td>0.009346</td>\n",
       "    </tr>\n",
       "    <tr>\n",
       "      <th>2</th>\n",
       "      <td>52_2.txt</td>\n",
       "      <td>9263.4</td>\n",
       "      <td>0.010035</td>\n",
       "    </tr>\n",
       "    <tr>\n",
       "      <th>3</th>\n",
       "      <td>52_3.txt</td>\n",
       "      <td>9179.2</td>\n",
       "      <td>0.009453</td>\n",
       "    </tr>\n",
       "    <tr>\n",
       "      <th>4</th>\n",
       "      <td>52_4.txt</td>\n",
       "      <td>9687.0</td>\n",
       "      <td>0.010756</td>\n",
       "    </tr>\n",
       "    <tr>\n",
       "      <th>5</th>\n",
       "      <td>52_5.txt</td>\n",
       "      <td>11292.0</td>\n",
       "      <td>0.011138</td>\n",
       "    </tr>\n",
       "    <tr>\n",
       "      <th>6</th>\n",
       "      <td>52_6.txt</td>\n",
       "      <td>11347.5</td>\n",
       "      <td>0.023171</td>\n",
       "    </tr>\n",
       "    <tr>\n",
       "      <th>7</th>\n",
       "      <td>52_7.txt</td>\n",
       "      <td>11157.0</td>\n",
       "      <td>0.011166</td>\n",
       "    </tr>\n",
       "    <tr>\n",
       "      <th>8</th>\n",
       "      <td>52_8.txt</td>\n",
       "      <td>11223.0</td>\n",
       "      <td>0.013489</td>\n",
       "    </tr>\n",
       "    <tr>\n",
       "      <th>9</th>\n",
       "      <td>52_9.txt</td>\n",
       "      <td>12575.8</td>\n",
       "      <td>0.009363</td>\n",
       "    </tr>\n",
       "    <tr>\n",
       "      <th>1</th>\n",
       "      <td>52_10.txt</td>\n",
       "      <td>12408.0</td>\n",
       "      <td>0.009093</td>\n",
       "    </tr>\n",
       "  </tbody>\n",
       "</table>\n",
       "</div>"
      ],
      "text/plain": [
       "    instance  optimal      time\n",
       "0   52_1.txt   9269.2  0.009346\n",
       "2   52_2.txt   9263.4  0.010035\n",
       "3   52_3.txt   9179.2  0.009453\n",
       "4   52_4.txt   9687.0  0.010756\n",
       "5   52_5.txt  11292.0  0.011138\n",
       "6   52_6.txt  11347.5  0.023171\n",
       "7   52_7.txt  11157.0  0.011166\n",
       "8   52_8.txt  11223.0  0.013489\n",
       "9   52_9.txt  12575.8  0.009363\n",
       "1  52_10.txt  12408.0  0.009093"
      ]
     },
     "metadata": {},
     "output_type": "display_data"
    },
    {
     "name": "stdout",
     "output_type": "stream",
     "text": [
      "\n",
      "Resultados salvos em: result/uls_dynamic_summary.csv\n",
      "Tempo total de execução: 0.1170s\n"
     ]
    }
   ],
   "source": [
    "    # salvar os resultados em um arquivo CSV\n",
    "    results_csv_path = os.path.join(result_path, \"uls_dynamic_summary.csv\")\n",
    "    results_df.to_csv(results_csv_path, index=False)\n",
    "\n",
    "    print(\"\\n\" + \"=\" * 60)\n",
    "    print(\"RESUMO DOS RESULTADOS\")\n",
    "    print(\"=\" * 60)\n",
    "\n",
    "    # Ordenar o DataFrame por 'Instância' usando uma chave personalizada para ordenar numericamente após o prefixo\n",
    "    results_df_sorted = results_df.copy()\n",
    "    results_df_sorted['sort_key'] = results_df_sorted['instance'].apply(lambda x: int(x.split('_')[1].split('.')[0]))\n",
    "    results_df_sorted = results_df_sorted.sort_values(by='sort_key').drop('sort_key', axis=1)\n",
    "\n",
    "    display(results_df_sorted) # Exibir o DataFrame ordenado\n",
    "    print(f\"\\nResultados salvos em: {results_csv_path}\")\n",
    "    print(f\"Tempo total de execução: {total_time:.4f}s\")"
   ]
  },
  {
   "cell_type": "code",
   "execution_count": 31,
   "metadata": {
    "colab": {
     "base_uri": "https://localhost:8080/",
     "height": 536
    },
    "executionInfo": {
     "elapsed": 586,
     "status": "ok",
     "timestamp": 1758732960419,
     "user": {
      "displayName": "Paula Andressa Nascimento Lucas",
      "userId": "16052357737294530810"
     },
     "user_tz": 180
    },
    "id": "7b711511",
    "outputId": "ffce7feb-8849-48ce-9d1b-f0576ae3441e"
   },
   "outputs": [
    {
     "name": "stderr",
     "output_type": "stream",
     "text": [
      "/tmp/ipykernel_179201/1722617585.py:14: FutureWarning: \n",
      "\n",
      "Passing `palette` without assigning `hue` is deprecated and will be removed in v0.14.0. Assign the `x` variable to `hue` and set `legend=False` for the same effect.\n",
      "\n",
      "  sns.barplot(data=results_df_sorted, x='instance', y='optimal', ax=ax1, palette='viridis')\n",
      "/tmp/ipykernel_179201/1722617585.py:18: UserWarning: FixedFormatter should only be used together with FixedLocator\n",
      "  ax1.set_xticklabels(results_df_sorted['instance'], rotation=45, ha='right') # definir rótulos do eixo X\n"
     ]
    },
    {
     "ename": "ValueError",
     "evalue": "Multi-dimensional indexing (e.g. `obj[:, None]`) is no longer supported. Convert to a numpy array before indexing instead.",
     "output_type": "error",
     "traceback": [
      "\u001b[0;31m---------------------------------------------------------------------------\u001b[0m",
      "\u001b[0;31mValueError\u001b[0m                                Traceback (most recent call last)",
      "\u001b[0;32m/tmp/ipykernel_179201/1722617585.py\u001b[0m in \u001b[0;36m<module>\u001b[0;34m\u001b[0m\n\u001b[1;32m     20\u001b[0m \u001b[0;31m# criar o segundo eixo Y para o Tempo PD\u001b[0m\u001b[0;34m\u001b[0m\u001b[0;34m\u001b[0m\u001b[0m\n\u001b[1;32m     21\u001b[0m \u001b[0max2\u001b[0m \u001b[0;34m=\u001b[0m \u001b[0max1\u001b[0m\u001b[0;34m.\u001b[0m\u001b[0mtwinx\u001b[0m\u001b[0;34m(\u001b[0m\u001b[0;34m)\u001b[0m\u001b[0;34m\u001b[0m\u001b[0;34m\u001b[0m\u001b[0m\n\u001b[0;32m---> 22\u001b[0;31m \u001b[0msns\u001b[0m\u001b[0;34m.\u001b[0m\u001b[0mlineplot\u001b[0m\u001b[0;34m(\u001b[0m\u001b[0mdata\u001b[0m\u001b[0;34m=\u001b[0m\u001b[0mresults_df_sorted\u001b[0m\u001b[0;34m,\u001b[0m \u001b[0mx\u001b[0m\u001b[0;34m=\u001b[0m\u001b[0;34m'instance'\u001b[0m\u001b[0;34m,\u001b[0m \u001b[0my\u001b[0m\u001b[0;34m=\u001b[0m\u001b[0;34m'time'\u001b[0m\u001b[0;34m,\u001b[0m \u001b[0max\u001b[0m\u001b[0;34m=\u001b[0m\u001b[0max2\u001b[0m\u001b[0;34m,\u001b[0m \u001b[0mcolor\u001b[0m\u001b[0;34m=\u001b[0m\u001b[0;34m'red'\u001b[0m\u001b[0;34m,\u001b[0m \u001b[0mmarker\u001b[0m\u001b[0;34m=\u001b[0m\u001b[0;34m'o'\u001b[0m\u001b[0;34m,\u001b[0m \u001b[0mlabel\u001b[0m\u001b[0;34m=\u001b[0m\u001b[0;34m'Tempo PD (s)'\u001b[0m\u001b[0;34m)\u001b[0m\u001b[0;34m\u001b[0m\u001b[0;34m\u001b[0m\u001b[0m\n\u001b[0m\u001b[1;32m     23\u001b[0m \u001b[0max2\u001b[0m\u001b[0;34m.\u001b[0m\u001b[0mset_ylabel\u001b[0m\u001b[0;34m(\u001b[0m\u001b[0;34m'Tempo PD (s)'\u001b[0m\u001b[0;34m,\u001b[0m \u001b[0mcolor\u001b[0m\u001b[0;34m=\u001b[0m\u001b[0;34m'red'\u001b[0m\u001b[0;34m)\u001b[0m\u001b[0;34m\u001b[0m\u001b[0;34m\u001b[0m\u001b[0m\n\u001b[1;32m     24\u001b[0m \u001b[0max2\u001b[0m\u001b[0;34m.\u001b[0m\u001b[0mtick_params\u001b[0m\u001b[0;34m(\u001b[0m\u001b[0maxis\u001b[0m\u001b[0;34m=\u001b[0m\u001b[0;34m'y'\u001b[0m\u001b[0;34m,\u001b[0m \u001b[0mlabelcolor\u001b[0m\u001b[0;34m=\u001b[0m\u001b[0;34m'red'\u001b[0m\u001b[0;34m)\u001b[0m\u001b[0;34m\u001b[0m\u001b[0;34m\u001b[0m\u001b[0m\n",
      "\u001b[0;32m~/.local/lib/python3.10/site-packages/seaborn/relational.py\u001b[0m in \u001b[0;36mlineplot\u001b[0;34m(data, x, y, hue, size, style, units, weights, palette, hue_order, hue_norm, sizes, size_order, size_norm, dashes, markers, style_order, estimator, errorbar, n_boot, seed, orient, sort, err_style, err_kws, legend, ci, ax, **kwargs)\u001b[0m\n\u001b[1;32m    513\u001b[0m     \u001b[0mkwargs\u001b[0m\u001b[0;34m[\u001b[0m\u001b[0;34m\"color\"\u001b[0m\u001b[0;34m]\u001b[0m \u001b[0;34m=\u001b[0m \u001b[0m_default_color\u001b[0m\u001b[0;34m(\u001b[0m\u001b[0max\u001b[0m\u001b[0;34m.\u001b[0m\u001b[0mplot\u001b[0m\u001b[0;34m,\u001b[0m \u001b[0mhue\u001b[0m\u001b[0;34m,\u001b[0m \u001b[0mcolor\u001b[0m\u001b[0;34m,\u001b[0m \u001b[0mkwargs\u001b[0m\u001b[0;34m)\u001b[0m\u001b[0;34m\u001b[0m\u001b[0;34m\u001b[0m\u001b[0m\n\u001b[1;32m    514\u001b[0m \u001b[0;34m\u001b[0m\u001b[0m\n\u001b[0;32m--> 515\u001b[0;31m     \u001b[0mp\u001b[0m\u001b[0;34m.\u001b[0m\u001b[0mplot\u001b[0m\u001b[0;34m(\u001b[0m\u001b[0max\u001b[0m\u001b[0;34m,\u001b[0m \u001b[0mkwargs\u001b[0m\u001b[0;34m)\u001b[0m\u001b[0;34m\u001b[0m\u001b[0;34m\u001b[0m\u001b[0m\n\u001b[0m\u001b[1;32m    516\u001b[0m     \u001b[0;32mreturn\u001b[0m \u001b[0max\u001b[0m\u001b[0;34m\u001b[0m\u001b[0;34m\u001b[0m\u001b[0m\n\u001b[1;32m    517\u001b[0m \u001b[0;34m\u001b[0m\u001b[0m\n",
      "\u001b[0;32m~/.local/lib/python3.10/site-packages/seaborn/relational.py\u001b[0m in \u001b[0;36mplot\u001b[0;34m(self, ax, kws)\u001b[0m\n\u001b[1;32m    314\u001b[0m                     \u001b[0mlines\u001b[0m\u001b[0;34m.\u001b[0m\u001b[0mextend\u001b[0m\u001b[0;34m(\u001b[0m\u001b[0max\u001b[0m\u001b[0;34m.\u001b[0m\u001b[0mplot\u001b[0m\u001b[0;34m(\u001b[0m\u001b[0munit_data\u001b[0m\u001b[0;34m[\u001b[0m\u001b[0;34m\"x\"\u001b[0m\u001b[0;34m]\u001b[0m\u001b[0;34m,\u001b[0m \u001b[0munit_data\u001b[0m\u001b[0;34m[\u001b[0m\u001b[0;34m\"y\"\u001b[0m\u001b[0;34m]\u001b[0m\u001b[0;34m,\u001b[0m \u001b[0;34m**\u001b[0m\u001b[0mkws\u001b[0m\u001b[0;34m)\u001b[0m\u001b[0;34m)\u001b[0m\u001b[0;34m\u001b[0m\u001b[0;34m\u001b[0m\u001b[0m\n\u001b[1;32m    315\u001b[0m             \u001b[0;32melse\u001b[0m\u001b[0;34m:\u001b[0m\u001b[0;34m\u001b[0m\u001b[0;34m\u001b[0m\u001b[0m\n\u001b[0;32m--> 316\u001b[0;31m                 \u001b[0mlines\u001b[0m \u001b[0;34m=\u001b[0m \u001b[0max\u001b[0m\u001b[0;34m.\u001b[0m\u001b[0mplot\u001b[0m\u001b[0;34m(\u001b[0m\u001b[0msub_data\u001b[0m\u001b[0;34m[\u001b[0m\u001b[0;34m\"x\"\u001b[0m\u001b[0;34m]\u001b[0m\u001b[0;34m,\u001b[0m \u001b[0msub_data\u001b[0m\u001b[0;34m[\u001b[0m\u001b[0;34m\"y\"\u001b[0m\u001b[0;34m]\u001b[0m\u001b[0;34m,\u001b[0m \u001b[0;34m**\u001b[0m\u001b[0mkws\u001b[0m\u001b[0;34m)\u001b[0m\u001b[0;34m\u001b[0m\u001b[0;34m\u001b[0m\u001b[0m\n\u001b[0m\u001b[1;32m    317\u001b[0m \u001b[0;34m\u001b[0m\u001b[0m\n\u001b[1;32m    318\u001b[0m             \u001b[0;32mfor\u001b[0m \u001b[0mline\u001b[0m \u001b[0;32min\u001b[0m \u001b[0mlines\u001b[0m\u001b[0;34m:\u001b[0m\u001b[0;34m\u001b[0m\u001b[0;34m\u001b[0m\u001b[0m\n",
      "\u001b[0;32m/usr/lib/python3/dist-packages/matplotlib/axes/_axes.py\u001b[0m in \u001b[0;36mplot\u001b[0;34m(self, scalex, scaley, data, *args, **kwargs)\u001b[0m\n\u001b[1;32m   1630\u001b[0m         \"\"\"\n\u001b[1;32m   1631\u001b[0m         \u001b[0mkwargs\u001b[0m \u001b[0;34m=\u001b[0m \u001b[0mcbook\u001b[0m\u001b[0;34m.\u001b[0m\u001b[0mnormalize_kwargs\u001b[0m\u001b[0;34m(\u001b[0m\u001b[0mkwargs\u001b[0m\u001b[0;34m,\u001b[0m \u001b[0mmlines\u001b[0m\u001b[0;34m.\u001b[0m\u001b[0mLine2D\u001b[0m\u001b[0;34m)\u001b[0m\u001b[0;34m\u001b[0m\u001b[0;34m\u001b[0m\u001b[0m\n\u001b[0;32m-> 1632\u001b[0;31m         \u001b[0mlines\u001b[0m \u001b[0;34m=\u001b[0m \u001b[0;34m[\u001b[0m\u001b[0;34m*\u001b[0m\u001b[0mself\u001b[0m\u001b[0;34m.\u001b[0m\u001b[0m_get_lines\u001b[0m\u001b[0;34m(\u001b[0m\u001b[0;34m*\u001b[0m\u001b[0margs\u001b[0m\u001b[0;34m,\u001b[0m \u001b[0mdata\u001b[0m\u001b[0;34m=\u001b[0m\u001b[0mdata\u001b[0m\u001b[0;34m,\u001b[0m \u001b[0;34m**\u001b[0m\u001b[0mkwargs\u001b[0m\u001b[0;34m)\u001b[0m\u001b[0;34m]\u001b[0m\u001b[0;34m\u001b[0m\u001b[0;34m\u001b[0m\u001b[0m\n\u001b[0m\u001b[1;32m   1633\u001b[0m         \u001b[0;32mfor\u001b[0m \u001b[0mline\u001b[0m \u001b[0;32min\u001b[0m \u001b[0mlines\u001b[0m\u001b[0;34m:\u001b[0m\u001b[0;34m\u001b[0m\u001b[0;34m\u001b[0m\u001b[0m\n\u001b[1;32m   1634\u001b[0m             \u001b[0mself\u001b[0m\u001b[0;34m.\u001b[0m\u001b[0madd_line\u001b[0m\u001b[0;34m(\u001b[0m\u001b[0mline\u001b[0m\u001b[0;34m)\u001b[0m\u001b[0;34m\u001b[0m\u001b[0;34m\u001b[0m\u001b[0m\n",
      "\u001b[0;32m/usr/lib/python3/dist-packages/matplotlib/axes/_base.py\u001b[0m in \u001b[0;36m__call__\u001b[0;34m(self, data, *args, **kwargs)\u001b[0m\n\u001b[1;32m    310\u001b[0m                 \u001b[0mthis\u001b[0m \u001b[0;34m+=\u001b[0m \u001b[0margs\u001b[0m\u001b[0;34m[\u001b[0m\u001b[0;36m0\u001b[0m\u001b[0;34m]\u001b[0m\u001b[0;34m,\u001b[0m\u001b[0;34m\u001b[0m\u001b[0;34m\u001b[0m\u001b[0m\n\u001b[1;32m    311\u001b[0m                 \u001b[0margs\u001b[0m \u001b[0;34m=\u001b[0m \u001b[0margs\u001b[0m\u001b[0;34m[\u001b[0m\u001b[0;36m1\u001b[0m\u001b[0;34m:\u001b[0m\u001b[0;34m]\u001b[0m\u001b[0;34m\u001b[0m\u001b[0;34m\u001b[0m\u001b[0m\n\u001b[0;32m--> 312\u001b[0;31m             \u001b[0;32myield\u001b[0m \u001b[0;32mfrom\u001b[0m \u001b[0mself\u001b[0m\u001b[0;34m.\u001b[0m\u001b[0m_plot_args\u001b[0m\u001b[0;34m(\u001b[0m\u001b[0mthis\u001b[0m\u001b[0;34m,\u001b[0m \u001b[0mkwargs\u001b[0m\u001b[0;34m)\u001b[0m\u001b[0;34m\u001b[0m\u001b[0;34m\u001b[0m\u001b[0m\n\u001b[0m\u001b[1;32m    313\u001b[0m \u001b[0;34m\u001b[0m\u001b[0m\n\u001b[1;32m    314\u001b[0m     \u001b[0;32mdef\u001b[0m \u001b[0mget_next_color\u001b[0m\u001b[0;34m(\u001b[0m\u001b[0mself\u001b[0m\u001b[0;34m)\u001b[0m\u001b[0;34m:\u001b[0m\u001b[0;34m\u001b[0m\u001b[0;34m\u001b[0m\u001b[0m\n",
      "\u001b[0;32m/usr/lib/python3/dist-packages/matplotlib/axes/_base.py\u001b[0m in \u001b[0;36m_plot_args\u001b[0;34m(self, tup, kwargs, return_kwargs)\u001b[0m\n\u001b[1;32m    485\u001b[0m \u001b[0;34m\u001b[0m\u001b[0m\n\u001b[1;32m    486\u001b[0m         \u001b[0;32mif\u001b[0m \u001b[0mlen\u001b[0m\u001b[0;34m(\u001b[0m\u001b[0mxy\u001b[0m\u001b[0;34m)\u001b[0m \u001b[0;34m==\u001b[0m \u001b[0;36m2\u001b[0m\u001b[0;34m:\u001b[0m\u001b[0;34m\u001b[0m\u001b[0;34m\u001b[0m\u001b[0m\n\u001b[0;32m--> 487\u001b[0;31m             \u001b[0mx\u001b[0m \u001b[0;34m=\u001b[0m \u001b[0m_check_1d\u001b[0m\u001b[0;34m(\u001b[0m\u001b[0mxy\u001b[0m\u001b[0;34m[\u001b[0m\u001b[0;36m0\u001b[0m\u001b[0;34m]\u001b[0m\u001b[0;34m)\u001b[0m\u001b[0;34m\u001b[0m\u001b[0;34m\u001b[0m\u001b[0m\n\u001b[0m\u001b[1;32m    488\u001b[0m             \u001b[0my\u001b[0m \u001b[0;34m=\u001b[0m \u001b[0m_check_1d\u001b[0m\u001b[0;34m(\u001b[0m\u001b[0mxy\u001b[0m\u001b[0;34m[\u001b[0m\u001b[0;36m1\u001b[0m\u001b[0;34m]\u001b[0m\u001b[0;34m)\u001b[0m\u001b[0;34m\u001b[0m\u001b[0;34m\u001b[0m\u001b[0m\n\u001b[1;32m    489\u001b[0m         \u001b[0;32melse\u001b[0m\u001b[0;34m:\u001b[0m\u001b[0;34m\u001b[0m\u001b[0;34m\u001b[0m\u001b[0m\n",
      "\u001b[0;32m/usr/lib/python3/dist-packages/matplotlib/cbook/__init__.py\u001b[0m in \u001b[0;36m_check_1d\u001b[0;34m(x)\u001b[0m\n\u001b[1;32m   1325\u001b[0m                     message='Support for multi-dimensional indexing')\n\u001b[1;32m   1326\u001b[0m \u001b[0;34m\u001b[0m\u001b[0m\n\u001b[0;32m-> 1327\u001b[0;31m                 \u001b[0mndim\u001b[0m \u001b[0;34m=\u001b[0m \u001b[0mx\u001b[0m\u001b[0;34m[\u001b[0m\u001b[0;34m:\u001b[0m\u001b[0;34m,\u001b[0m \u001b[0;32mNone\u001b[0m\u001b[0;34m]\u001b[0m\u001b[0;34m.\u001b[0m\u001b[0mndim\u001b[0m\u001b[0;34m\u001b[0m\u001b[0;34m\u001b[0m\u001b[0m\n\u001b[0m\u001b[1;32m   1328\u001b[0m                 \u001b[0;31m# we have definitely hit a pandas index or series object\u001b[0m\u001b[0;34m\u001b[0m\u001b[0;34m\u001b[0m\u001b[0m\n\u001b[1;32m   1329\u001b[0m                 \u001b[0;31m# cast to a numpy array.\u001b[0m\u001b[0;34m\u001b[0m\u001b[0;34m\u001b[0m\u001b[0m\n",
      "\u001b[0;32m~/.local/lib/python3.10/site-packages/pandas/core/series.py\u001b[0m in \u001b[0;36m__getitem__\u001b[0;34m(self, key)\u001b[0m\n\u001b[1;32m   1151\u001b[0m             \u001b[0;32mreturn\u001b[0m \u001b[0mself\u001b[0m\u001b[0;34m.\u001b[0m\u001b[0m_get_rows_with_mask\u001b[0m\u001b[0;34m(\u001b[0m\u001b[0mkey\u001b[0m\u001b[0;34m)\u001b[0m\u001b[0;34m\u001b[0m\u001b[0;34m\u001b[0m\u001b[0m\n\u001b[1;32m   1152\u001b[0m \u001b[0;34m\u001b[0m\u001b[0m\n\u001b[0;32m-> 1153\u001b[0;31m         \u001b[0;32mreturn\u001b[0m \u001b[0mself\u001b[0m\u001b[0;34m.\u001b[0m\u001b[0m_get_with\u001b[0m\u001b[0;34m(\u001b[0m\u001b[0mkey\u001b[0m\u001b[0;34m)\u001b[0m\u001b[0;34m\u001b[0m\u001b[0;34m\u001b[0m\u001b[0m\n\u001b[0m\u001b[1;32m   1154\u001b[0m \u001b[0;34m\u001b[0m\u001b[0m\n\u001b[1;32m   1155\u001b[0m     \u001b[0;32mdef\u001b[0m \u001b[0m_get_with\u001b[0m\u001b[0;34m(\u001b[0m\u001b[0mself\u001b[0m\u001b[0;34m,\u001b[0m \u001b[0mkey\u001b[0m\u001b[0;34m)\u001b[0m\u001b[0;34m:\u001b[0m\u001b[0;34m\u001b[0m\u001b[0;34m\u001b[0m\u001b[0m\n",
      "\u001b[0;32m~/.local/lib/python3.10/site-packages/pandas/core/series.py\u001b[0m in \u001b[0;36m_get_with\u001b[0;34m(self, key)\u001b[0m\n\u001b[1;32m   1161\u001b[0m             )\n\u001b[1;32m   1162\u001b[0m         \u001b[0;32melif\u001b[0m \u001b[0misinstance\u001b[0m\u001b[0;34m(\u001b[0m\u001b[0mkey\u001b[0m\u001b[0;34m,\u001b[0m \u001b[0mtuple\u001b[0m\u001b[0;34m)\u001b[0m\u001b[0;34m:\u001b[0m\u001b[0;34m\u001b[0m\u001b[0;34m\u001b[0m\u001b[0m\n\u001b[0;32m-> 1163\u001b[0;31m             \u001b[0;32mreturn\u001b[0m \u001b[0mself\u001b[0m\u001b[0;34m.\u001b[0m\u001b[0m_get_values_tuple\u001b[0m\u001b[0;34m(\u001b[0m\u001b[0mkey\u001b[0m\u001b[0;34m)\u001b[0m\u001b[0;34m\u001b[0m\u001b[0;34m\u001b[0m\u001b[0m\n\u001b[0m\u001b[1;32m   1164\u001b[0m \u001b[0;34m\u001b[0m\u001b[0m\n\u001b[1;32m   1165\u001b[0m         \u001b[0;32melif\u001b[0m \u001b[0;32mnot\u001b[0m \u001b[0mis_list_like\u001b[0m\u001b[0;34m(\u001b[0m\u001b[0mkey\u001b[0m\u001b[0;34m)\u001b[0m\u001b[0;34m:\u001b[0m\u001b[0;34m\u001b[0m\u001b[0;34m\u001b[0m\u001b[0m\n",
      "\u001b[0;32m~/.local/lib/python3.10/site-packages/pandas/core/series.py\u001b[0m in \u001b[0;36m_get_values_tuple\u001b[0;34m(self, key)\u001b[0m\n\u001b[1;32m   1201\u001b[0m             \u001b[0;31m# the asarray is needed to avoid returning a 2D DatetimeArray\u001b[0m\u001b[0;34m\u001b[0m\u001b[0;34m\u001b[0m\u001b[0m\n\u001b[1;32m   1202\u001b[0m             \u001b[0mresult\u001b[0m \u001b[0;34m=\u001b[0m \u001b[0mnp\u001b[0m\u001b[0;34m.\u001b[0m\u001b[0masarray\u001b[0m\u001b[0;34m(\u001b[0m\u001b[0mself\u001b[0m\u001b[0;34m.\u001b[0m\u001b[0m_values\u001b[0m\u001b[0;34m[\u001b[0m\u001b[0mkey\u001b[0m\u001b[0;34m]\u001b[0m\u001b[0;34m)\u001b[0m\u001b[0;34m\u001b[0m\u001b[0;34m\u001b[0m\u001b[0m\n\u001b[0;32m-> 1203\u001b[0;31m             \u001b[0mdisallow_ndim_indexing\u001b[0m\u001b[0;34m(\u001b[0m\u001b[0mresult\u001b[0m\u001b[0;34m)\u001b[0m\u001b[0;34m\u001b[0m\u001b[0;34m\u001b[0m\u001b[0m\n\u001b[0m\u001b[1;32m   1204\u001b[0m             \u001b[0;32mreturn\u001b[0m \u001b[0mresult\u001b[0m\u001b[0;34m\u001b[0m\u001b[0;34m\u001b[0m\u001b[0m\n\u001b[1;32m   1205\u001b[0m \u001b[0;34m\u001b[0m\u001b[0m\n",
      "\u001b[0;32m~/.local/lib/python3.10/site-packages/pandas/core/indexers/utils.py\u001b[0m in \u001b[0;36mdisallow_ndim_indexing\u001b[0;34m(result)\u001b[0m\n\u001b[1;32m    339\u001b[0m     \"\"\"\n\u001b[1;32m    340\u001b[0m     \u001b[0;32mif\u001b[0m \u001b[0mnp\u001b[0m\u001b[0;34m.\u001b[0m\u001b[0mndim\u001b[0m\u001b[0;34m(\u001b[0m\u001b[0mresult\u001b[0m\u001b[0;34m)\u001b[0m \u001b[0;34m>\u001b[0m \u001b[0;36m1\u001b[0m\u001b[0;34m:\u001b[0m\u001b[0;34m\u001b[0m\u001b[0;34m\u001b[0m\u001b[0m\n\u001b[0;32m--> 341\u001b[0;31m         raise ValueError(\n\u001b[0m\u001b[1;32m    342\u001b[0m             \u001b[0;34m\"Multi-dimensional indexing (e.g. `obj[:, None]`) is no longer \"\u001b[0m\u001b[0;34m\u001b[0m\u001b[0;34m\u001b[0m\u001b[0m\n\u001b[1;32m    343\u001b[0m             \u001b[0;34m\"supported. Convert to a numpy array before indexing instead.\"\u001b[0m\u001b[0;34m\u001b[0m\u001b[0;34m\u001b[0m\u001b[0m\n",
      "\u001b[0;31mValueError\u001b[0m: Multi-dimensional indexing (e.g. `obj[:, None]`) is no longer supported. Convert to a numpy array before indexing instead."
     ]
    },
    {
     "data": {
      "image/png": "[encoded data removed]",
      "text/plain": [
       "<Figure size 648x288 with 2 Axes>"
      ]
     },
     "metadata": {
      "needs_background": "light"
     },
     "output_type": "display_data"
    }
   ],
   "source": [
    "# criar o gráfico com dois eixos Y\n",
    "import matplotlib.pyplot as plt\n",
    "import seaborn as sns\n",
    "\n",
    "# Ordenar o DataFrame por 'Instância' usando uma chave personalizada para ordenar numericamente após o prefixo\n",
    "results_df_sorted = results_df.copy()\n",
    "results_df_sorted['sort_key'] = results_df_sorted['instance'].apply(lambda x: int(x.split('_')[1].split('.')[0]))\n",
    "results_df_sorted = results_df_sorted.sort_values(by='sort_key').drop('sort_key', axis=1)\n",
    "\n",
    "\n",
    "fig, ax1 = plt.subplots(figsize=(9, 4))\n",
    "\n",
    "# gráfico de barras para o Custo PD no eixo Y primário\n",
    "sns.barplot(data=results_df_sorted, x='instance', y='optimal', ax=ax1, palette='viridis')\n",
    "ax1.set_xlabel('Instância')\n",
    "ax1.set_ylabel('Custo PD', color='blue')\n",
    "ax1.tick_params(axis='y', labelcolor='blue')\n",
    "ax1.set_xticklabels(results_df_sorted['instance'], rotation=45, ha='right') # definir rótulos do eixo X\n",
    "\n",
    "# criar o segundo eixo Y para o Tempo PD\n",
    "ax2 = ax1.twinx()\n",
    "sns.lineplot(data=results_df_sorted, x='instance', y='time', ax=ax2, color='red', marker='o', label='Tempo PD (s)')\n",
    "ax2.set_ylabel('Tempo PD (s)', color='red')\n",
    "ax2.tick_params(axis='y', labelcolor='red')\n",
    "\n",
    "# adicionar título e legendas\n",
    "plt.title('Custo e Tempo de Execução da PD por Instância')\n",
    "fig.tight_layout() # Ajusta o layout para evitar sobreposição\n",
    "\n",
    "# mostrar o gráfico\n",
    "plt.show()"
   ]
  },
  {
   "cell_type": "code",
   "execution_count": 23,
   "metadata": {
    "colab": {
     "base_uri": "https://localhost:8080/"
    },
    "executionInfo": {
     "elapsed": 47,
     "status": "ok",
     "timestamp": 1758734077788,
     "user": {
      "displayName": "Paula Andressa Nascimento Lucas",
      "userId": "16052357737294530810"
     },
     "user_tz": 180
    },
    "id": "F2XC-SIHeTEW",
    "outputId": "2b93d5bf-ee5a-410e-9d8d-59c9fa62671c"
   },
   "outputs": [
    {
     "name": "stdout",
     "output_type": "stream",
     "text": [
      "O somatório do tempo de execução total é: 0.12s\n"
     ]
    }
   ],
   "source": [
    "print(f\"O somatório do tempo de execução total é: {total_time:.2f}s\")"
   ]
  },
  {
   "cell_type": "code",
   "execution_count": null,
   "metadata": {},
   "outputs": [],
   "source": []
  }
 ],
 "metadata": {
  "colab": {
   "provenance": []
  },
  "kernelspec": {
   "display_name": "Python 3",
   "name": "python3"
  },
  "language_info": {
   "codemirror_mode": {
    "name": "ipython",
    "version": 3
   },
   "file_extension": ".py",
   "mimetype": "text/x-python",
   "name": "python",
   "nbconvert_exporter": "python",
   "pygments_lexer": "ipython3",
   "version": "3.10.12"
  }
 },
 "nbformat": 4,
 "nbformat_minor": 0
}
