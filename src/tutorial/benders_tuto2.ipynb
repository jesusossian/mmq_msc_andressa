{
 "cells": [
  {
   "cell_type": "code",
   "execution_count": 2,
   "id": "cf5238b5",
   "metadata": {},
   "outputs": [],
   "source": [
    "using JuMP, CPLEX"
   ]
  },
  {
   "cell_type": "code",
   "execution_count": 3,
   "id": "06e393cf",
   "metadata": {},
   "outputs": [
    {
     "data": {
      "text/plain": [
       "add_annotation (generic function with 1 method)"
      ]
     },
     "execution_count": 3,
     "metadata": {},
     "output_type": "execute_result"
    }
   ],
   "source": [
    "function add_annotation(\n",
    "    model::JuMP.Model,\n",
    "    variable_classification::Dict;\n",
    "    all_variables::Bool = true,\n",
    ")\n",
    "    num_variables = sum(length(it) for it in values(variable_classification))\n",
    "    if all_variables\n",
    "        @assert num_variables == JuMP.num_variables(model)\n",
    "    end\n",
    "    indices, annotations = CPXINT[], CPXLONG[]\n",
    "    for (key, value) in variable_classification\n",
    "        for variable_ref in value\n",
    "            push!(indices, variable_ref.index.value - 1)\n",
    "            push!(annotations, CPX_BENDERS_MASTERVALUE + key)\n",
    "        end\n",
    "    end\n",
    "    cplex = backend(model)\n",
    "    index_p = Ref{CPXINT}()\n",
    "    CPXnewlongannotation(\n",
    "        cplex.env,\n",
    "        cplex.lp,\n",
    "        CPX_BENDERS_ANNOTATION,\n",
    "        CPX_BENDERS_MASTERVALUE,\n",
    "    )\n",
    "    CPXgetlongannotationindex(\n",
    "        cplex.env,\n",
    "        cplex.lp,\n",
    "        CPX_BENDERS_ANNOTATION,\n",
    "        index_p,\n",
    "    )\n",
    "    CPXsetlongannotations(\n",
    "        cplex.env,\n",
    "        cplex.lp,\n",
    "        index_p[],\n",
    "        CPX_ANNOTATIONOBJ_COL,\n",
    "        length(indices),\n",
    "        indices,\n",
    "        annotations,\n",
    "    )\n",
    "    return\n",
    "end"
   ]
  },
  {
   "cell_type": "code",
   "execution_count": null,
   "id": "356d827d",
   "metadata": {},
   "outputs": [
    {
     "data": {
      "text/plain": [
       "illustrate_full_annotation (generic function with 1 method)"
      ]
     },
     "execution_count": 4,
     "metadata": {},
     "output_type": "execute_result"
    }
   ],
   "source": [
    "function illustrate_full_annotation()\n",
    "    \n",
    "    c_1, c_2 = [1, 4], [2, 3]\n",
    "    dim_x, dim_y = length(c_1), length(c_2)\n",
    "    b = [-2; -3]\n",
    "    A_1, A_2 = [1 -3; -1 -3], [1 -2; -1 -1]\n",
    "\n",
    "    model = JuMP.direct_model(CPLEX.Optimizer())\n",
    "    \n",
    "    set_optimizer_attribute(model, \"CPXPARAM_Benders_Strategy\", 1)\n",
    "    \n",
    "    @variable(model, x[1:dim_x] >= 0, Bin)\n",
    "    @variable(model, y[1:dim_y] >= 0)\n",
    "    variable_classification = Dict(0 => [x[1], x[2]], 1 => [y[1], y[2]])\n",
    "    @constraint(model, A_2 * y + A_1 * x .<= b)\n",
    "    @objective(model, Min, c_1' * x + c_2' * y)\n",
    "    add_annotation(model, variable_classification)\n",
    "    \n",
    "    optimize!(model)\n",
    "    \n",
    "    x_optimal = value.(x)\n",
    "    y_optimal = value.(y)\n",
    "    println(\"x: $(x_optimal), y: $(y_optimal)\")\n",
    "\n",
    "end"
   ]
  },
  {
   "cell_type": "code",
   "execution_count": 7,
   "id": "f3e175b1",
   "metadata": {},
   "outputs": [
    {
     "name": "stdout",
     "output_type": "stream",
     "text": [
      "Version identifier: 22.1.1.0 | 2022-11-28 | 9160aff4d\n",
      "CPXPARAM_Benders_Strategy                        1\n",
      "Found incumbent of value 4.000000 after 0.00 sec. (0.00 ticks)\n",
      "Tried aggregator 1 time.\n",
      "Reduced MIP has 2 rows, 4 columns, and 8 nonzeros.\n",
      "Reduced MIP has 2 binaries, 0 generals, 0 SOSs, and 0 indicators.\n",
      "Presolve time = 0.00 sec. (0.00 ticks)\n",
      "Tried aggregator 1 time.\n",
      "Reduced MIP has 2 rows, 4 columns, and 8 nonzeros.\n",
      "Reduced MIP has 2 binaries, 0 generals, 0 SOSs, and 0 indicators.\n",
      "Presolve time = 0.00 sec. (0.00 ticks)\n",
      "\n",
      "        Nodes                                         Cuts/\n",
      "   Node  Left     Objective  IInf  Best Integer    Best Bound    ItCnt     Gap\n",
      "\n",
      "      0     0        0.0000              4.0000    Benders: 1        0  100.00%\n",
      "      0     0        3.9565              4.0000    Benders: 1        1    1.09%\n",
      "Tried aggregator 1 time.\n",
      "Reduced MIP has 2 rows, 3 columns, and 6 nonzeros.\n",
      "Reduced MIP has 2 binaries, 0 generals, 0 SOSs, and 0 indicators.\n",
      "Presolve time = 0.00 sec. (0.00 ticks)\n",
      "Probing time = 0.00 sec. (0.00 ticks)\n",
      "Tried aggregator 1 time.\n",
      "Reduced MIP has 2 rows, 3 columns, and 6 nonzeros.\n",
      "Reduced MIP has 2 binaries, 0 generals, 0 SOSs, and 0 indicators.\n",
      "Presolve time = 0.00 sec. (0.00 ticks)\n",
      "Probing time = 0.00 sec. (0.00 ticks)\n",
      "MIP emphasis: balance optimality and feasibility.\n",
      "MIP search method: dynamic search.\n",
      "Parallel mode: deterministic, using up to 8 threads.\n",
      "Root relaxation solution time = 0.00 sec. (0.00 ticks)\n",
      "*     0+    0                            4.0000        3.9565             1.09%\n",
      "      0     0        3.9756     2        4.0000        3.9756        4    0.61%\n",
      "      0     0        cutoff              4.0000                      5    0.00%\n",
      "Elapsed time = 0.00 sec. (0.04 ticks, tree = 0.01 MB, solutions = 0)\n",
      "x: [0.0, 1.0], y: [0.0, 0.0]\n",
      "\n",
      "Benders cuts applied:  2\n",
      "\n",
      "Root node processing (before b&c):\n",
      "  Real time             =    0.00 sec. (0.04 ticks)\n",
      "Parallel b&c, 8 threads:\n",
      "  Real time             =    0.00 sec. (0.00 ticks)\n",
      "  Sync time (average)   =    0.00 sec.\n",
      "  Wait time (average)   =    0.00 sec.\n",
      "                          ------------\n",
      "Total (root+branch&cut) =    0.00 sec. (0.04 ticks)\n"
     ]
    }
   ],
   "source": [
    "illustrate_full_annotation()"
   ]
  },
  {
   "cell_type": "code",
   "execution_count": 5,
   "id": "98ada9b4",
   "metadata": {},
   "outputs": [
    {
     "data": {
      "text/plain": [
       "illustrate_partial_annotation (generic function with 1 method)"
      ]
     },
     "execution_count": 5,
     "metadata": {},
     "output_type": "execute_result"
    }
   ],
   "source": [
    "function illustrate_partial_annotation()\n",
    "    c_1, c_2 = [1, 4], [2, 3]\n",
    "    dim_x, dim_y = length(c_1), length(c_2)\n",
    "    b = [-2; -3]\n",
    "    A_1, A_2 = [1 -3; -1 -3], [1 -2; -1 -1]\n",
    "\n",
    "    model = JuMP.direct_model(CPLEX.Optimizer())\n",
    "    \n",
    "    # Note that the \"CPXPARAM_Benders_Strategy\" has to be set to 2 if partial\n",
    "    # annotation is provided. If \"CPXPARAM_Benders_Strategy\" is set to 1, then\n",
    "    # the following error will be thrown:\n",
    "    # `CPLEX Error  2002: Invalid Benders decomposition.`\n",
    "    set_optimizer_attribute(model, \"CPXPARAM_Benders_Strategy\", 2)\n",
    "    \n",
    "    @variable(model, x[1:dim_x] >= 0, Bin)\n",
    "    @variable(model, y[1:dim_y] >= 0)\n",
    "    variable_classification = Dict(0 => [x[1]], 1 => [y[1], y[2]])\n",
    "    @constraint(model, A_2 * y + A_1 * x .<= b)\n",
    "    @objective(model, Min, c_1' * x + c_2' * y)\n",
    "    add_annotation(model, variable_classification; all_variables = false)\n",
    "    optimize!(model)\n",
    "    x_optimal = value.(x)\n",
    "    y_optimal = value.(y)\n",
    "    println(\"x: $(x_optimal), y: $(y_optimal)\")\n",
    "end"
   ]
  },
  {
   "cell_type": "code",
   "execution_count": 6,
   "id": "cee8f57f",
   "metadata": {},
   "outputs": [
    {
     "name": "stdout",
     "output_type": "stream",
     "text": [
      "Version identifier: 22.1.1.0 | 2022-11-28 | 9160aff4d\n",
      "CPXPARAM_Benders_Strategy                        2\n",
      "Found incumbent of value 4.000000 after 0.00 sec. (0.00 ticks)\n",
      "Tried aggregator 1 time.\n",
      "Reduced MIP has 2 rows, 4 columns, and 8 nonzeros.\n",
      "Reduced MIP has 2 binaries, 0 generals, 0 SOSs, and 0 indicators.\n",
      "Presolve time = 0.00 sec. (0.00 ticks)\n",
      "Tried aggregator 1 time.\n",
      "Reduced MIP has 2 rows, 4 columns, and 8 nonzeros.\n",
      "Reduced MIP has 2 binaries, 0 generals, 0 SOSs, and 0 indicators.\n",
      "Presolve time = 0.00 sec. (0.00 ticks)\n",
      "\n",
      "        Nodes                                         Cuts/\n",
      "   Node  Left     Objective  IInf  Best Integer    Best Bound    ItCnt     Gap\n",
      "\n",
      "      0     0        0.0000              4.0000    Benders: 1        0  100.00%\n",
      "      0     0        3.9565              4.0000    Benders: 1        1    1.09%\n",
      "Tried aggregator 1 time.\n",
      "Reduced MIP has 2 rows, 3 columns, and 6 nonzeros.\n",
      "Reduced MIP has 2 binaries, 0 generals, 0 SOSs, and 0 indicators.\n",
      "Presolve time = 0.00 sec. (0.00 ticks)\n",
      "Probing time = 0.00 sec. (0.00 ticks)\n",
      "Tried aggregator 1 time.\n",
      "Reduced MIP has 2 rows, 3 columns, and 6 nonzeros.\n",
      "Reduced MIP has 2 binaries, 0 generals, 0 SOSs, and 0 indicators.\n",
      "Presolve time = 0.00 sec. (0.00 ticks)\n",
      "Probing time = 0.00 sec. (0.00 ticks)\n",
      "MIP emphasis: balance optimality and feasibility.\n",
      "MIP search method: dynamic search.\n",
      "Parallel mode: deterministic, using up to 8 threads.\n",
      "Root relaxation solution time = 0.00 sec. (0.00 ticks)\n",
      "*     0+    0                            4.0000        3.9565             1.09%\n",
      "      0     0        3.9756     2        4.0000        3.9756        4    0.61%\n",
      "      0     0        cutoff              4.0000                      5    0.00%\n",
      "Elapsed time = 0.01 sec. (0.04 ticks, tree = 0.01 MB, solutions = 0)\n",
      "x: [0.0, 1.0], y: [0.0, 0.0]\n",
      "\n",
      "Benders cuts applied:  2\n",
      "\n",
      "Root node processing (before b&c):\n",
      "  Real time             =    0.01 sec. (0.04 ticks)\n",
      "Parallel b&c, 8 threads:\n",
      "  Real time             =    0.00 sec. (0.00 ticks)\n",
      "  Sync time (average)   =    0.00 sec.\n",
      "  Wait time (average)   =    0.00 sec.\n",
      "                          ------------\n",
      "Total (root+branch&cut) =    0.01 sec. (0.04 ticks)\n"
     ]
    }
   ],
   "source": [
    "illustrate_partial_annotation()"
   ]
  },
  {
   "cell_type": "code",
   "execution_count": null,
   "id": "a31b2bf6",
   "metadata": {},
   "outputs": [],
   "source": []
  }
 ],
 "metadata": {
  "kernelspec": {
   "display_name": "Julia 1.10.10",
   "language": "julia",
   "name": "julia-1.10"
  },
  "language_info": {
   "file_extension": ".jl",
   "mimetype": "application/julia",
   "name": "julia",
   "version": "1.10.10"
  }
 },
 "nbformat": 4,
 "nbformat_minor": 5
}
