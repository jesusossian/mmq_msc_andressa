{
 "cells": [
  {
   "cell_type": "code",
   "execution_count": 2,
   "id": "2a4ade39",
   "metadata": {},
   "outputs": [],
   "source": [
    "using JuMP, CPLEX, Test"
   ]
  },
  {
   "cell_type": "code",
   "execution_count": null,
   "id": "16a59853",
   "metadata": {},
   "outputs": [
    {
     "data": {
      "text/plain": [
       "Int64[]"
      ]
     },
     "execution_count": 3,
     "metadata": {},
     "output_type": "execute_result"
    }
   ],
   "source": [
    "model = direct_model(CPLEX.Optimizer())\n",
    "set_silent(model)\n",
    "\n",
    "# This is very, very important!!! Only use callbacks in single-threaded mode.\n",
    "MOI.set(model, MOI.NumberOfThreads(), 1)\n",
    "\n",
    "@variable(model, 0 <= x <= 2.5, Int)\n",
    "@variable(model, 0 <= y <= 2.5, Int)\n",
    "@objective(model, Max, y)\n",
    "\n",
    "cb_calls = Clong[]"
   ]
  },
  {
   "cell_type": "code",
   "execution_count": null,
   "id": "72f20c5f",
   "metadata": {},
   "outputs": [
    {
     "data": {
      "text/plain": [
       "my_callback_function (generic function with 1 method)"
      ]
     },
     "execution_count": 4,
     "metadata": {},
     "output_type": "execute_result"
    }
   ],
   "source": [
    "function my_callback_function(cb_data::CPLEX.CallbackContext, context_id::Clong)\n",
    "    \n",
    "    # You can reference variables outside the function as normal\n",
    "    push!(cb_calls, context_id)\n",
    "\n",
    "    # You can select where the callback is run\n",
    "    if context_id != CPX_CALLBACKCONTEXT_CANDIDATE\n",
    "        return\n",
    "    end\n",
    "    \n",
    "    ispoint_p = Ref{Cint}()\n",
    "    ret = CPXcallbackcandidateispoint(cb_data, ispoint_p)\n",
    "    if ret != 0 || ispoint_p[] == 0\n",
    "        return  # No candidate point available or error\n",
    "    end\n",
    "    \n",
    "    # You can query CALLBACKINFO items\n",
    "    valueP = Ref{Cdouble}()\n",
    "    ret = CPXcallbackgetinfodbl(cb_data, CPXCALLBACKINFO_BEST_BND, valueP)\n",
    "    @info \"Best bound is currently: $(valueP[])\"\n",
    "    \n",
    "    # As well as any other C API\n",
    "    x_p = Vector{Cdouble}(undef, 2)\n",
    "    obj_p = Ref{Cdouble}()\n",
    "    ret = CPXcallbackgetincumbent(cb_data, x_p, 0, 1, obj_p)\n",
    "    if ret == 0\n",
    "        @info \"Objective incumbent is: $(obj_p[])\"\n",
    "        @info \"Incumbent solution is: $(x_p)\"\n",
    "        # Use CPLEX.column to map between variable references and the 1-based\n",
    "        # column.\n",
    "        x_col = CPLEX.column(cb_data, index(x))\n",
    "        @info \"x = $(x_p[x_col])\"\n",
    "    else\n",
    "        # Unable to query incumbent.\n",
    "    end\n",
    "\n",
    "    # Before querying `callback_value`, you must call:\n",
    "    CPLEX.load_callback_variable_primal(cb_data, context_id)\n",
    "    x_val = callback_value(cb_data, x)\n",
    "    y_val = callback_value(cb_data, y)\n",
    "    \n",
    "    # You can submit solver-independent MathOptInterface attributes such as\n",
    "    # lazy constraints, user-cuts, and heuristic solutions.\n",
    "    if y_val - x_val > 1 + 1e-6\n",
    "        con = @build_constraint(y - x <= 1)\n",
    "        MOI.submit(model, MOI.LazyConstraint(cb_data), con)\n",
    "    elseif y_val + x_val > 3 + 1e-6\n",
    "        con = @build_constraint(y + x <= 3)\n",
    "        MOI.submit(model, MOI.LazyConstraint(cb_data), con)\n",
    "    end\n",
    "end"
   ]
  },
  {
   "cell_type": "code",
   "execution_count": 6,
   "id": "9e5c45a3",
   "metadata": {},
   "outputs": [
    {
     "data": {
      "text/plain": [
       "\u001b[32m\u001b[1mTest Passed\u001b[22m\u001b[39m"
      ]
     },
     "execution_count": 6,
     "metadata": {},
     "output_type": "execute_result"
    }
   ],
   "source": [
    "MOI.set(model, CPLEX.CallbackFunction(), my_callback_function)\n",
    "\n",
    "optimize!(model)\n",
    "\n",
    "@test termination_status(model) == MOI.OPTIMAL\n",
    "@test primal_status(model) == MOI.FEASIBLE_POINT\n",
    "@test value(x) == 1\n",
    "@test value(y) == 2"
   ]
  },
  {
   "cell_type": "code",
   "execution_count": null,
   "id": "8b62d82a",
   "metadata": {},
   "outputs": [],
   "source": []
  }
 ],
 "metadata": {
  "kernelspec": {
   "display_name": "Julia 1.10.10",
   "language": "julia",
   "name": "julia-1.10"
  },
  "language_info": {
   "file_extension": ".jl",
   "mimetype": "application/julia",
   "name": "julia",
   "version": "1.10.10"
  }
 },
 "nbformat": 4,
 "nbformat_minor": 5
}
