{
 "cells": [
  {
   "cell_type": "code",
   "execution_count": 1,
   "id": "92af39a6",
   "metadata": {},
   "outputs": [],
   "source": [
    "using JuMP\n",
    "import Gurobi\n",
    "import HiGHS\n",
    "import Printf"
   ]
  },
  {
   "cell_type": "markdown",
   "id": "443d9d61",
   "metadata": {},
   "source": [
    "# Benders decomposition\n",
    "\n",
    "https://jump.dev/JuMP.jl/stable/tutorials/algorithms/benders_decomposition/#In-place-iterative-method "
   ]
  },
  {
   "cell_type": "markdown",
   "id": "8755498c",
   "metadata": {},
   "source": [
    "## Monolithic problem"
   ]
  },
  {
   "cell_type": "code",
   "execution_count": 41,
   "id": "c8e343ed",
   "metadata": {},
   "outputs": [
    {
     "data": {
      "text/plain": [
       "solution_summary(; result = 1, verbose = false)\n",
       "├ solver_name          : HiGHS\n",
       "├ Termination\n",
       "│ ├ termination_status : OPTIMAL\n",
       "│ ├ result_count       : 1\n",
       "│ ├ raw_status         : kHighsModelStatusOptimal\n",
       "│ └ objective_bound    : -5.10000e+00\n",
       "├ Solution (result = 1)\n",
       "│ ├ primal_status        : FEASIBLE_POINT\n",
       "│ ├ dual_status          : NO_SOLUTION\n",
       "│ ├ objective_value      : -5.10000e+00\n",
       "│ ├ dual_objective_value : NaN\n",
       "│ └ relative_gap         : 0.00000e+00\n",
       "└ Work counters\n",
       "  ├ solve_time (sec)   : 6.53315e-03\n",
       "  ├ simplex_iterations : 15\n",
       "  ├ barrier_iterations : -1\n",
       "  └ node_count         : 1"
      ]
     },
     "execution_count": 41,
     "metadata": {},
     "output_type": "execute_result"
    }
   ],
   "source": [
    "G = [\n",
    "    0 3 2 2 0 0 0 0\n",
    "    0 0 0 0 5 1 0 0\n",
    "    0 0 0 0 1 3 1 0\n",
    "    0 0 0 0 0 1 0 0\n",
    "    0 0 0 0 0 0 0 4\n",
    "    0 0 0 0 0 0 0 2\n",
    "    0 0 0 0 0 0 0 4\n",
    "    0 0 0 0 0 0 0 0\n",
    "]\n",
    "n = size(G, 1)\n",
    "model = Model(HiGHS.Optimizer)\n",
    "set_silent(model)\n",
    "@variable(model, x[1:n, 1:n], Bin)\n",
    "@variable(model, y[1:n, 1:n] >= 0)\n",
    "@constraint(model, sum(x) <= 11)\n",
    "@constraint(model, [i = 1:n, j = 1:n], y[i, j] <= G[i, j] * x[i, j])\n",
    "@constraint(model, [i = 2:n-1], sum(y[i, :]) == sum(y[:, i]))\n",
    "@objective(model, Min, 0.1 * sum(x) - sum(y[1, :]))\n",
    "optimize!(model)\n",
    "solution_summary(model)"
   ]
  },
  {
   "cell_type": "code",
   "execution_count": 42,
   "id": "17bcc984",
   "metadata": {},
   "outputs": [
    {
     "data": {
      "text/plain": [
       "-5.1"
      ]
     },
     "execution_count": 42,
     "metadata": {},
     "output_type": "execute_result"
    }
   ],
   "source": [
    "objective_value(model)"
   ]
  },
  {
   "cell_type": "code",
   "execution_count": 43,
   "id": "e7d5b0ad",
   "metadata": {},
   "outputs": [
    {
     "data": {
      "text/plain": [
       "9-element Vector{Pair{Tuple{Int64, Int64}, Float64}}:\n",
       " (1, 2) => 3.0\n",
       " (1, 3) => 2.0\n",
       " (1, 4) => 1.0\n",
       " (2, 5) => 3.0\n",
       " (3, 5) => 1.0\n",
       " (3, 6) => 1.0\n",
       " (4, 6) => 1.0\n",
       " (5, 8) => 4.0\n",
       " (6, 8) => 2.0"
      ]
     },
     "execution_count": 43,
     "metadata": {},
     "output_type": "execute_result"
    }
   ],
   "source": [
    "function optimal_flows(x)\n",
    "    return [(i, j) => x[i, j] for i in 1:n for j in 1:n if x[i, j] > 0]\n",
    "end\n",
    "\n",
    "monolithic_solution = optimal_flows(value.(y))"
   ]
  },
  {
   "cell_type": "markdown",
   "id": "b35e5cc7",
   "metadata": {},
   "source": [
    "## Iterative method"
   ]
  },
  {
   "cell_type": "code",
   "execution_count": 53,
   "id": "ebde2c68",
   "metadata": {},
   "outputs": [
    {
     "data": {
      "text/plain": [
       "A JuMP Model\n",
       "├ solver: HiGHS\n",
       "├ objective_sense: MIN_SENSE\n",
       "│ └ objective_function_type: AffExpr\n",
       "├ num_variables: 65\n",
       "├ num_constraints: 66\n",
       "│ ├ AffExpr in MOI.LessThan{Float64}: 1\n",
       "│ ├ VariableRef in MOI.GreaterThan{Float64}: 1\n",
       "│ └ VariableRef in MOI.ZeroOne: 64\n",
       "└ Names registered in the model\n",
       "  └ :x, :θ"
      ]
     },
     "execution_count": 53,
     "metadata": {},
     "output_type": "execute_result"
    }
   ],
   "source": [
    "M = -sum(G)\n",
    "model = Model(HiGHS.Optimizer)\n",
    "set_silent(model)\n",
    "@variable(model, x[1:n, 1:n], Bin)\n",
    "@variable(model, θ >= M)\n",
    "@constraint(model, sum(x) <= 11)\n",
    "@objective(model, Min, 0.1 * sum(x) + θ)\n",
    "model"
   ]
  },
  {
   "cell_type": "code",
   "execution_count": 54,
   "id": "6ee47c49",
   "metadata": {},
   "outputs": [
    {
     "data": {
      "text/plain": [
       "solve_subproblem (generic function with 2 methods)"
      ]
     },
     "execution_count": 54,
     "metadata": {},
     "output_type": "execute_result"
    }
   ],
   "source": [
    "function solve_subproblem(x_bar)\n",
    "    model = Model(HiGHS.Optimizer)\n",
    "    set_silent(model)\n",
    "    @variable(model, x[i in 1:n, j in 1:n] == x_bar[i, j])\n",
    "    @variable(model, y[1:n, 1:n] >= 0)\n",
    "    @constraint(model, [i = 1:n, j = 1:n], y[i, j] <= G[i, j] * x[i, j])\n",
    "    @constraint(model, [i = 2:n-1], sum(y[i, :]) == sum(y[:, i]))\n",
    "    @objective(model, Min, -sum(y[1, :]))\n",
    "    optimize!(model)\n",
    "    assert_is_solved_and_feasible(model; dual = true)\n",
    "    return (obj = objective_value(model), y = value.(y), π = reduced_cost.(x))\n",
    "end"
   ]
  },
  {
   "cell_type": "code",
   "execution_count": 55,
   "id": "00ea4b83",
   "metadata": {},
   "outputs": [
    {
     "data": {
      "text/plain": [
       "print_iteration (generic function with 1 method)"
      ]
     },
     "execution_count": 55,
     "metadata": {},
     "output_type": "execute_result"
    }
   ],
   "source": [
    "function print_iteration(k, args...)\n",
    "    f(x) = Printf.@sprintf(\"%12.4e\", x)\n",
    "    println(lpad(k, 9), \" \", join(f.(args), \" \"))\n",
    "    return\n",
    "end"
   ]
  },
  {
   "cell_type": "code",
   "execution_count": 56,
   "id": "65fcb312",
   "metadata": {},
   "outputs": [
    {
     "data": {
      "text/plain": [
       "100"
      ]
     },
     "execution_count": 56,
     "metadata": {},
     "output_type": "execute_result"
    }
   ],
   "source": [
    "MAXIMUM_ITERATIONS = 100"
   ]
  },
  {
   "cell_type": "code",
   "execution_count": 57,
   "id": "0a2beee4",
   "metadata": {},
   "outputs": [
    {
     "data": {
      "text/plain": [
       "1.0e-6"
      ]
     },
     "execution_count": 57,
     "metadata": {},
     "output_type": "execute_result"
    }
   ],
   "source": [
    "ABSOLUTE_OPTIMALITY_GAP = 1e-6"
   ]
  },
  {
   "cell_type": "code",
   "execution_count": 58,
   "id": "e0db8eb0",
   "metadata": {},
   "outputs": [
    {
     "name": "stdout",
     "output_type": "stream",
     "text": [
      "Iteration  Lower Bound  Upper Bound          Gap\n",
      "        1  -2.9000e+01   0.0000e+00          Inf\n",
      "        2  -6.7000e+00   3.0000e-01   2.3333e+01\n",
      "        3  -6.5000e+00   5.0000e-01   1.4000e+01\n",
      "        4  -6.2000e+00  -4.2000e+00   4.7619e-01\n",
      "        5  -6.1000e+00  -4.1000e+00   4.8780e-01\n",
      "        6  -6.1000e+00  -4.1000e+00   4.8780e-01\n",
      "        7  -5.1000e+00  -5.1000e+00   0.0000e+00\n",
      "Terminating with the optimal solution\n"
     ]
    },
    {
     "name": "stderr",
     "output_type": "stream",
     "text": [
      "\u001b[36m\u001b[1m[ \u001b[22m\u001b[39m\u001b[36m\u001b[1mInfo: \u001b[22m\u001b[39mAdding the cut 3 x[1,2] + 2 x[1,3] + 2 x[1,4] + θ ≥ 0\n",
      "\u001b[36m\u001b[1m[ \u001b[22m\u001b[39m\u001b[36m\u001b[1mInfo: \u001b[22m\u001b[39mAdding the cut 5 x[2,5] + x[3,5] + x[2,6] + 3 x[3,6] + x[4,6] + x[3,7] + θ ≥ 0\n",
      "\u001b[36m\u001b[1m[ \u001b[22m\u001b[39m\u001b[36m\u001b[1mInfo: \u001b[22m\u001b[39mAdding the cut x[3,7] + 4 x[5,8] + 2 x[6,8] + θ ≥ 0\n",
      "\u001b[36m\u001b[1m[ \u001b[22m\u001b[39m\u001b[36m\u001b[1mInfo: \u001b[22m\u001b[39mAdding the cut 3 x[1,2] + x[3,5] + 2 x[6,8] + 4 x[7,8] + θ ≥ 0\n",
      "\u001b[36m\u001b[1m[ \u001b[22m\u001b[39m\u001b[36m\u001b[1mInfo: \u001b[22m\u001b[39mAdding the cut 3 x[1,2] + x[3,5] + 3 x[3,6] + x[4,6] + x[3,7] + θ ≥ 0\n",
      "\u001b[36m\u001b[1m[ \u001b[22m\u001b[39m\u001b[36m\u001b[1mInfo: \u001b[22m\u001b[39mAdding the cut 3 x[1,2] + 2 x[1,3] + x[4,6] + θ ≥ 0\n"
     ]
    }
   ],
   "source": [
    "println(\"Iteration  Lower Bound  Upper Bound          Gap\")\n",
    "for k in 1:MAXIMUM_ITERATIONS\n",
    "    optimize!(model)\n",
    "    assert_is_solved_and_feasible(model)\n",
    "    lower_bound = objective_value(model)\n",
    "    x_k = value.(x)\n",
    "    ret = solve_subproblem(x_k)\n",
    "    upper_bound = (objective_value(model) - value(θ)) + ret.obj\n",
    "    gap = abs(upper_bound - lower_bound) / abs(upper_bound)\n",
    "    print_iteration(k, lower_bound, upper_bound, gap)\n",
    "    if gap < ABSOLUTE_OPTIMALITY_GAP\n",
    "        println(\"Terminating with the optimal solution\")\n",
    "        break\n",
    "    end\n",
    "    cut = @constraint(model, θ >= ret.obj + sum(ret.π .* (x .- x_k)))\n",
    "    @info \"Adding the cut $(cut)\"\n",
    "end"
   ]
  },
  {
   "cell_type": "code",
   "execution_count": 59,
   "id": "fc8bb371",
   "metadata": {},
   "outputs": [
    {
     "data": {
      "text/plain": [
       "9-element Vector{Pair{Tuple{Int64, Int64}, Float64}}:\n",
       " (1, 2) => 3.0\n",
       " (1, 3) => 2.0\n",
       " (1, 4) => 1.0\n",
       " (2, 5) => 3.0\n",
       " (3, 5) => 1.0\n",
       " (3, 6) => 1.0\n",
       " (4, 6) => 1.0\n",
       " (5, 8) => 4.0\n",
       " (6, 8) => 2.0"
      ]
     },
     "execution_count": 59,
     "metadata": {},
     "output_type": "execute_result"
    }
   ],
   "source": [
    "optimize!(model)\n",
    "assert_is_solved_and_feasible(model)\n",
    "x_optimal = value.(x)\n",
    "optimal_ret = solve_subproblem(x_optimal)\n",
    "iterative_solution = optimal_flows(optimal_ret.y)"
   ]
  },
  {
   "cell_type": "code",
   "execution_count": 60,
   "id": "084f430a",
   "metadata": {},
   "outputs": [
    {
     "data": {
      "text/plain": [
       "true"
      ]
     },
     "execution_count": 60,
     "metadata": {},
     "output_type": "execute_result"
    }
   ],
   "source": [
    "iterative_solution == monolithic_solution"
   ]
  },
  {
   "cell_type": "code",
   "execution_count": 61,
   "id": "998978ba",
   "metadata": {},
   "outputs": [
    {
     "data": {
      "text/plain": [
       "-5.1"
      ]
     },
     "execution_count": 61,
     "metadata": {},
     "output_type": "execute_result"
    }
   ],
   "source": [
    "objective_value(model)"
   ]
  },
  {
   "cell_type": "markdown",
   "id": "00b82b2a",
   "metadata": {},
   "source": [
    "## Callback"
   ]
  },
  {
   "cell_type": "code",
   "execution_count": 62,
   "id": "1c13fdfa",
   "metadata": {},
   "outputs": [
    {
     "name": "stdout",
     "output_type": "stream",
     "text": [
      "Set parameter Username\n",
      "Academic license - for non-commercial use only - expires 2026-02-19\n"
     ]
    },
    {
     "data": {
      "text/plain": [
       "A JuMP Model\n",
       "├ solver: Gurobi\n",
       "├ objective_sense: MIN_SENSE\n",
       "│ └ objective_function_type: AffExpr\n",
       "├ num_variables: 65\n",
       "├ num_constraints: 66\n",
       "│ ├ AffExpr in MOI.LessThan{Float64}: 1\n",
       "│ ├ VariableRef in MOI.GreaterThan{Float64}: 1\n",
       "│ └ VariableRef in MOI.ZeroOne: 64\n",
       "└ Names registered in the model\n",
       "  └ :x, :θ"
      ]
     },
     "execution_count": 62,
     "metadata": {},
     "output_type": "execute_result"
    }
   ],
   "source": [
    "optimizer = Gurobi.Optimizer\n",
    "lazy_model = Model(optimizer)\n",
    "set_silent(lazy_model)\n",
    "@variable(lazy_model, x[1:n, 1:n], Bin)\n",
    "@variable(lazy_model, θ >= M)\n",
    "@constraint(lazy_model, sum(x) <= 11)\n",
    "@objective(lazy_model, Min, 0.1 * sum(x) + θ)\n",
    "lazy_model"
   ]
  },
  {
   "cell_type": "code",
   "execution_count": 63,
   "id": "436c6f5c",
   "metadata": {},
   "outputs": [],
   "source": [
    "number_of_subproblem_solves = 0\n",
    "function my_callback(cb_data)\n",
    "    status = callback_node_status(cb_data, lazy_model)\n",
    "    if status != MOI.CALLBACK_NODE_STATUS_INTEGER\n",
    "        # Only add the constraint if `x` is an integer feasible solution\n",
    "        return\n",
    "    end\n",
    "    x_k = callback_value.(cb_data, x)\n",
    "    θ_k = callback_value(cb_data, θ)\n",
    "    global number_of_subproblem_solves += 1\n",
    "    ret = solve_subproblem(x_k)\n",
    "    if θ_k < (ret.obj - 1e-6)\n",
    "        # Only add the constraint if θ_k violates the constraint\n",
    "        cut = @build_constraint(θ >= ret.obj + sum(ret.π .* (x .- x_k)))\n",
    "        MOI.submit(lazy_model, MOI.LazyConstraint(cb_data), cut)\n",
    "    end\n",
    "    return\n",
    "end\n",
    "\n",
    "set_attribute(lazy_model, MOI.LazyConstraintCallback(), my_callback)"
   ]
  },
  {
   "cell_type": "code",
   "execution_count": 64,
   "id": "cced0ab3",
   "metadata": {},
   "outputs": [],
   "source": [
    "optimize!(lazy_model)\n",
    "assert_is_solved_and_feasible(lazy_model)"
   ]
  },
  {
   "cell_type": "code",
   "execution_count": 65,
   "id": "e4f683eb",
   "metadata": {},
   "outputs": [
    {
     "data": {
      "text/plain": [
       "17"
      ]
     },
     "execution_count": 65,
     "metadata": {},
     "output_type": "execute_result"
    }
   ],
   "source": [
    "number_of_subproblem_solves"
   ]
  },
  {
   "cell_type": "code",
   "execution_count": 66,
   "id": "56b4183b",
   "metadata": {},
   "outputs": [
    {
     "data": {
      "text/plain": [
       "9-element Vector{Pair{Tuple{Int64, Int64}, Float64}}:\n",
       " (1, 2) => 3.0\n",
       " (1, 3) => 2.0\n",
       " (1, 4) => 1.0\n",
       " (2, 5) => 3.0\n",
       " (3, 5) => 1.0\n",
       " (3, 6) => 1.0\n",
       " (4, 6) => 1.0\n",
       " (5, 8) => 4.0\n",
       " (6, 8) => 2.0"
      ]
     },
     "execution_count": 66,
     "metadata": {},
     "output_type": "execute_result"
    }
   ],
   "source": [
    "x_optimal = value.(x)\n",
    "optimal_ret = solve_subproblem(x_optimal)\n",
    "callback_solution = optimal_flows(optimal_ret.y)"
   ]
  },
  {
   "cell_type": "markdown",
   "id": "a5f69ef4",
   "metadata": {},
   "source": [
    "## In-place iterative method"
   ]
  },
  {
   "cell_type": "code",
   "execution_count": 67,
   "id": "921fdf63",
   "metadata": {},
   "outputs": [
    {
     "data": {
      "text/plain": [
       "A JuMP Model\n",
       "├ solver: HiGHS\n",
       "├ objective_sense: MIN_SENSE\n",
       "│ └ objective_function_type: AffExpr\n",
       "├ num_variables: 65\n",
       "├ num_constraints: 66\n",
       "│ ├ AffExpr in MOI.LessThan{Float64}: 1\n",
       "│ ├ VariableRef in MOI.GreaterThan{Float64}: 1\n",
       "│ └ VariableRef in MOI.ZeroOne: 64\n",
       "└ Names registered in the model\n",
       "  └ :x, :θ"
      ]
     },
     "execution_count": 67,
     "metadata": {},
     "output_type": "execute_result"
    }
   ],
   "source": [
    "model = Model(HiGHS.Optimizer)\n",
    "set_silent(model)\n",
    "@variable(model, x[1:n, 1:n], Bin)\n",
    "@variable(model, θ >= M)\n",
    "@constraint(model, sum(x) <= 11)\n",
    "@objective(model, Min, 0.1 * sum(x) + θ)\n",
    "model"
   ]
  },
  {
   "cell_type": "code",
   "execution_count": 68,
   "id": "e0173b8b",
   "metadata": {},
   "outputs": [
    {
     "data": {
      "text/plain": [
       "A JuMP Model\n",
       "├ solver: HiGHS\n",
       "├ objective_sense: MIN_SENSE\n",
       "│ └ objective_function_type: AffExpr\n",
       "├ num_variables: 128\n",
       "├ num_constraints: 134\n",
       "│ ├ AffExpr in MOI.EqualTo{Float64}: 6\n",
       "│ ├ AffExpr in MOI.LessThan{Float64}: 64\n",
       "│ └ VariableRef in MOI.GreaterThan{Float64}: 64\n",
       "└ Names registered in the model\n",
       "  └ :x_copy, :y"
      ]
     },
     "execution_count": 68,
     "metadata": {},
     "output_type": "execute_result"
    }
   ],
   "source": [
    "subproblem = Model(HiGHS.Optimizer)\n",
    "set_silent(subproblem)\n",
    "@variable(subproblem, x_copy[i in 1:n, j in 1:n])\n",
    "@variable(subproblem, y[1:n, 1:n] >= 0)\n",
    "@constraint(subproblem, [i = 1:n, j = 1:n], y[i, j] <= G[i, j] * x_copy[i, j])\n",
    "@constraint(subproblem, [i = 2:n-1], sum(y[i, :]) == sum(y[:, i]))\n",
    "@objective(subproblem, Min, -sum(y[1, :]))\n",
    "subproblem"
   ]
  },
  {
   "cell_type": "code",
   "execution_count": 69,
   "id": "6a8fbd3c",
   "metadata": {},
   "outputs": [
    {
     "data": {
      "text/plain": [
       "solve_subproblem (generic function with 2 methods)"
      ]
     },
     "execution_count": 69,
     "metadata": {},
     "output_type": "execute_result"
    }
   ],
   "source": [
    "function solve_subproblem(model, x)\n",
    "    fix.(model[:x_copy], x)\n",
    "    optimize!(model)\n",
    "    assert_is_solved_and_feasible(model; dual = true)\n",
    "    return (\n",
    "        obj = objective_value(model),\n",
    "        y = value.(model[:y]),\n",
    "        π = reduced_cost.(model[:x_copy]),\n",
    "    )\n",
    "end"
   ]
  },
  {
   "cell_type": "code",
   "execution_count": 70,
   "id": "7dd442ab",
   "metadata": {},
   "outputs": [
    {
     "name": "stdout",
     "output_type": "stream",
     "text": [
      "Iteration  Lower Bound  Upper Bound          Gap\n",
      "        1  -2.9000e+01   0.0000e+00          Inf\n",
      "        2  -6.7000e+00   3.0000e-01   2.3333e+01\n",
      "        3  -6.5000e+00   5.0000e-01   1.4000e+01\n",
      "        4  -6.2000e+00  -4.2000e+00   4.7619e-01\n",
      "        5  -6.1000e+00  -4.1000e+00   4.8780e-01\n",
      "        6  -6.1000e+00  -4.1000e+00   4.8780e-01\n",
      "        7  -5.1000e+00  -5.1000e+00   0.0000e+00\n",
      "Terminating with the optimal solution\n"
     ]
    },
    {
     "name": "stderr",
     "output_type": "stream",
     "text": [
      "\u001b[36m\u001b[1m[ \u001b[22m\u001b[39m\u001b[36m\u001b[1mInfo: \u001b[22m\u001b[39mAdding the cut 3 x[1,2] + 2 x[1,3] + 2 x[1,4] + θ ≥ 0\n",
      "\u001b[36m\u001b[1m[ \u001b[22m\u001b[39m\u001b[36m\u001b[1mInfo: \u001b[22m\u001b[39mAdding the cut 5 x[2,5] + x[3,5] + x[2,6] + 3 x[3,6] + x[4,6] + x[3,7] + θ ≥ 0\n",
      "\u001b[36m\u001b[1m[ \u001b[22m\u001b[39m\u001b[36m\u001b[1mInfo: \u001b[22m\u001b[39mAdding the cut x[3,7] + 4 x[5,8] + 2 x[6,8] + θ ≥ 0\n",
      "\u001b[36m\u001b[1m[ \u001b[22m\u001b[39m\u001b[36m\u001b[1mInfo: \u001b[22m\u001b[39mAdding the cut 3 x[1,2] + x[3,5] + 2 x[6,8] + 4 x[7,8] + θ ≥ 0\n",
      "\u001b[36m\u001b[1m[ \u001b[22m\u001b[39m\u001b[36m\u001b[1mInfo: \u001b[22m\u001b[39mAdding the cut 3 x[1,2] + x[3,5] + 3 x[3,6] + x[4,6] + x[3,7] + θ ≥ 0\n",
      "\u001b[36m\u001b[1m[ \u001b[22m\u001b[39m\u001b[36m\u001b[1mInfo: \u001b[22m\u001b[39mAdding the cut 3 x[1,2] + 2 x[1,3] + x[4,6] + θ ≥ 0\n"
     ]
    }
   ],
   "source": [
    "println(\"Iteration  Lower Bound  Upper Bound          Gap\")\n",
    "for k in 1:MAXIMUM_ITERATIONS\n",
    "    optimize!(model)\n",
    "    assert_is_solved_and_feasible(model)\n",
    "    lower_bound = objective_value(model)\n",
    "    x_k = value.(x)\n",
    "    ret = solve_subproblem(subproblem, x_k)\n",
    "    upper_bound = (objective_value(model) - value(θ)) + ret.obj\n",
    "    gap = abs(upper_bound - lower_bound) / abs(upper_bound)\n",
    "    print_iteration(k, lower_bound, upper_bound, gap)\n",
    "    if gap < ABSOLUTE_OPTIMALITY_GAP\n",
    "        println(\"Terminating with the optimal solution\")\n",
    "        break\n",
    "    end\n",
    "    cut = @constraint(model, θ >= ret.obj + sum(ret.π .* (x .- x_k)))\n",
    "    @info \"Adding the cut $(cut)\"\n",
    "end"
   ]
  },
  {
   "cell_type": "code",
   "execution_count": 71,
   "id": "19dd40c2",
   "metadata": {},
   "outputs": [
    {
     "data": {
      "text/plain": [
       "9-element Vector{Pair{Tuple{Int64, Int64}, Float64}}:\n",
       " (1, 2) => 3.0\n",
       " (1, 3) => 2.0\n",
       " (1, 4) => 1.0\n",
       " (2, 5) => 3.0\n",
       " (3, 5) => 1.0\n",
       " (3, 6) => 1.0\n",
       " (4, 6) => 1.0\n",
       " (5, 8) => 4.0\n",
       " (6, 8) => 2.0"
      ]
     },
     "execution_count": 71,
     "metadata": {},
     "output_type": "execute_result"
    }
   ],
   "source": [
    "optimize!(model)\n",
    "assert_is_solved_and_feasible(model)\n",
    "x_optimal = value.(x)\n",
    "optimal_ret = solve_subproblem(subproblem, x_optimal)\n",
    "inplace_solution = optimal_flows(optimal_ret.y)"
   ]
  },
  {
   "cell_type": "code",
   "execution_count": 72,
   "id": "19243589",
   "metadata": {},
   "outputs": [
    {
     "data": {
      "text/plain": [
       "true"
      ]
     },
     "execution_count": 72,
     "metadata": {},
     "output_type": "execute_result"
    }
   ],
   "source": [
    "inplace_solution == monolithic_solution"
   ]
  },
  {
   "cell_type": "markdown",
   "id": "3af0dd9c",
   "metadata": {},
   "source": [
    "## Feasibility cuts"
   ]
  },
  {
   "cell_type": "code",
   "execution_count": 73,
   "id": "e376c790",
   "metadata": {},
   "outputs": [
    {
     "data": {
      "text/plain": [
       "A JuMP Model\n",
       "├ solver: HiGHS\n",
       "├ objective_sense: MIN_SENSE\n",
       "│ └ objective_function_type: AffExpr\n",
       "├ num_variables: 65\n",
       "├ num_constraints: 66\n",
       "│ ├ AffExpr in MOI.LessThan{Float64}: 1\n",
       "│ ├ VariableRef in MOI.GreaterThan{Float64}: 1\n",
       "│ └ VariableRef in MOI.ZeroOne: 64\n",
       "└ Names registered in the model\n",
       "  └ :x, :θ"
      ]
     },
     "execution_count": 73,
     "metadata": {},
     "output_type": "execute_result"
    }
   ],
   "source": [
    "model = Model(HiGHS.Optimizer)\n",
    "set_silent(model)\n",
    "@variable(model, x[1:n, 1:n], Bin)\n",
    "@variable(model, θ >= M)\n",
    "@constraint(model, sum(x) <= 11)\n",
    "@objective(model, Min, 0.1 * sum(x) + θ)\n",
    "model"
   ]
  },
  {
   "cell_type": "code",
   "execution_count": 74,
   "id": "2ee0c993",
   "metadata": {},
   "outputs": [
    {
     "data": {
      "text/plain": [
       "A JuMP Model\n",
       "├ solver: HiGHS\n",
       "├ objective_sense: MIN_SENSE\n",
       "│ └ objective_function_type: AffExpr\n",
       "├ num_variables: 128\n",
       "├ num_constraints: 135\n",
       "│ ├ AffExpr in MOI.EqualTo{Float64}: 6\n",
       "│ ├ AffExpr in MOI.GreaterThan{Float64}: 1\n",
       "│ ├ AffExpr in MOI.LessThan{Float64}: 64\n",
       "│ └ VariableRef in MOI.GreaterThan{Float64}: 64\n",
       "└ Names registered in the model\n",
       "  └ :x_copy, :y"
      ]
     },
     "execution_count": 74,
     "metadata": {},
     "output_type": "execute_result"
    }
   ],
   "source": [
    "subproblem = Model(HiGHS.Optimizer)\n",
    "set_silent(subproblem)\n",
    "# We need to turn presolve off so that HiGHS will return an infeasibility\n",
    "# certificate.\n",
    "set_attribute(subproblem, \"presolve\", \"off\")\n",
    "@variable(subproblem, x_copy[i in 1:n, j in 1:n])\n",
    "@variable(subproblem, y[1:n, 1:n] >= 0)\n",
    "@constraint(subproblem, sum(y) >= 1)  # <--- THIS IS NEW\n",
    "@constraint(subproblem, [i = 1:n, j = 1:n], y[i, j] <= G[i, j] * x_copy[i, j])\n",
    "@constraint(subproblem, [i = 2:n-1], sum(y[i, :]) == sum(y[:, i]))\n",
    "@objective(subproblem, Min, -sum(y[1, :]))\n",
    "subproblem"
   ]
  },
  {
   "cell_type": "code",
   "execution_count": 75,
   "id": "1bf4d411",
   "metadata": {},
   "outputs": [
    {
     "data": {
      "text/plain": [
       "solve_subproblem_with_feasibility (generic function with 1 method)"
      ]
     },
     "execution_count": 75,
     "metadata": {},
     "output_type": "execute_result"
    }
   ],
   "source": [
    "function solve_subproblem_with_feasibility(model, x)\n",
    "    fix.(model[:x_copy], x)\n",
    "    optimize!(model)\n",
    "    if is_solved_and_feasible(model; dual = true)\n",
    "        return (\n",
    "            is_feasible = true,\n",
    "            obj = objective_value(model),\n",
    "            y = value.(model[:y]),\n",
    "            π = reduced_cost.(model[:x_copy]),\n",
    "        )\n",
    "    end\n",
    "    return (\n",
    "        is_feasible = false,\n",
    "        v = dual_objective_value(model),\n",
    "        u = reduced_cost.(model[:x_copy]),\n",
    "    )\n",
    "end"
   ]
  },
  {
   "cell_type": "code",
   "execution_count": 76,
   "id": "6249a8cd",
   "metadata": {},
   "outputs": [
    {
     "name": "stdout",
     "output_type": "stream",
     "text": [
      "Iteration  Lower Bound  Upper Bound          Gap\n"
     ]
    },
    {
     "name": "stderr",
     "output_type": "stream",
     "text": [
      "\u001b[36m\u001b[1m[ \u001b[22m\u001b[39m\u001b[36m\u001b[1mInfo: \u001b[22m\u001b[39mAdding the feasibility cut -3 x[1,2] - 2 x[1,3] - 2 x[1,4] - 5.000000000000002 x[2,5] - x[3,5] - 2 x[2,6] - 6 x[3,6] - 2 x[4,6] - 2.0000000000000004 x[3,7] - 4 x[5,8] ≤ -1\n",
      "\u001b[36m\u001b[1m[ \u001b[22m\u001b[39m\u001b[36m\u001b[1mInfo: \u001b[22m\u001b[39mAdding the feasibility cut -2.999999999999999 x[1,2] - 1.9999999999999996 x[1,3] - 1.9999999999999996 x[1,4] - 10 x[2,5] - 2 x[3,5] - 1.9999999999999996 x[2,6] - 5.999999999999998 x[3,6] - 1.9999999999999996 x[4,6] - 1.9999999999999998 x[3,7] ≤ -0.9999999999999998\n",
      "\u001b[36m\u001b[1m[ \u001b[22m\u001b[39m\u001b[36m\u001b[1mInfo: \u001b[22m\u001b[39mAdding the feasibility cut -2.9999999999999987 x[1,2] - 5.999999999999998 x[1,3] - 1.9999999999999991 x[1,4] - 10 x[2,5] - 1.9999999999999991 x[2,6] - 1.9999999999999991 x[4,6] ≤ -0.9999999999999996\n",
      "\u001b[36m\u001b[1m[ \u001b[22m\u001b[39m\u001b[36m\u001b[1mInfo: \u001b[22m\u001b[39mAdding the feasibility cut -4 x[1,3] - 3.9999999999999982 x[1,4] - 9.999999999999998 x[2,5] - 2 x[2,6] - 4 x[5,8] - 1.9999999999999996 x[6,8] - 4 x[7,8] ≤ -1\n",
      "\u001b[36m\u001b[1m[ \u001b[22m\u001b[39m\u001b[36m\u001b[1mInfo: \u001b[22m\u001b[39mAdding the feasibility cut -3 x[1,2] - 4 x[1,3] - 2 x[1,4] - 10 x[2,5] - x[3,5] - 4 x[6,8] - 4 x[7,8] ≤ -1\n",
      "\u001b[36m\u001b[1m[ \u001b[22m\u001b[39m\u001b[36m\u001b[1mInfo: \u001b[22m\u001b[39mAdding the feasibility cut -6 x[1,2] - 6 x[1,3] - 4 x[1,4] - 4 x[5,8] - 2 x[6,8] ≤ -1\n",
      "\u001b[36m\u001b[1m[ \u001b[22m\u001b[39m\u001b[36m\u001b[1mInfo: \u001b[22m\u001b[39mAdding the feasibility cut -6 x[1,2] - 6 x[1,3] - 2 x[4,6] - 4 x[5,8] - 2 x[6,8] ≤ -1\n",
      "\u001b[36m\u001b[1m[ \u001b[22m\u001b[39m\u001b[36m\u001b[1mInfo: \u001b[22m\u001b[39mAdding the feasibility cut -6 x[1,2] - 2 x[1,4] - 2 x[3,5] - 6 x[3,6] - x[4,6] - 2 x[3,7] - 4 x[5,8] - 2 x[6,8] - 4 x[7,8] ≤ -1\n",
      "\u001b[36m\u001b[1m[ \u001b[22m\u001b[39m\u001b[36m\u001b[1mInfo: \u001b[22m\u001b[39mAdding the feasibility cut -15 x[2,5] - 3 x[3,5] - 2 x[2,6] - 6 x[3,6] - 2 x[4,6] - 2 x[3,7] - 2 x[6,8] - 4 x[7,8] ≤ -1\n",
      "\u001b[36m\u001b[1m[ \u001b[22m\u001b[39m\u001b[36m\u001b[1mInfo: \u001b[22m\u001b[39mAdding the feasibility cut -x[2,6] - 3 x[3,6] - x[4,6] - 2 x[3,7] - 12 x[5,8] - 4 x[6,8] - 4 x[7,8] ≤ -1\n",
      "\u001b[36m\u001b[1m[ \u001b[22m\u001b[39m\u001b[36m\u001b[1mInfo: \u001b[22m\u001b[39mAdding the feasibility cut -x[3,7] - 12 x[5,8] - 6 x[6,8] - 8 x[7,8] ≤ -1\n",
      "\u001b[36m\u001b[1m[ \u001b[22m\u001b[39m\u001b[36m\u001b[1mInfo: \u001b[22m\u001b[39mAdding the feasibility cut -3 x[2,6] - 9 x[3,6] - 3 x[4,6] - x[3,7] - 12 x[5,8] - 8 x[7,8] ≤ -1\n",
      "\u001b[36m\u001b[1m[ \u001b[22m\u001b[39m\u001b[36m\u001b[1mInfo: \u001b[22m\u001b[39mAdding the feasibility cut -9 x[1,2] - 2 x[1,3] - 2 x[3,5] - 2 x[2,6] - 12 x[3,6] - 5 x[4,6] - x[3,7] - 4 x[7,8] ≤ -1\n",
      "\u001b[36m\u001b[1m[ \u001b[22m\u001b[39m\u001b[36m\u001b[1mInfo: \u001b[22m\u001b[39mAdding the feasibility cut -9.000000000000004 x[1,2] - 4.000000000000002 x[1,3] - 6.000000000000006 x[1,4] - x[3,5] - 2.9999999999999987 x[3,6] - x[3,7] ≤ -1.0000000000000004\n",
      "\u001b[36m\u001b[1m[ \u001b[22m\u001b[39m\u001b[36m\u001b[1mInfo: \u001b[22m\u001b[39mAdding the feasibility cut -5.999999999999995 x[1,2] - 3.9999999999999982 x[1,4] - 1.9999999999999982 x[3,5] - 5.999999999999997 x[3,6] - 2.999999999999999 x[3,7] - 4 x[5,8] - 2 x[6,8] ≤ -0.9999999999999991\n",
      "\u001b[36m\u001b[1m[ \u001b[22m\u001b[39m\u001b[36m\u001b[1mInfo: \u001b[22m\u001b[39mAdding the feasibility cut -4.5 x[1,2] - 2 x[1,4] - 1.5 x[3,5] - 4.5 x[3,6] - 0.5 x[4,6] - 6 x[7,8] ≤ -0.5\n",
      "\u001b[36m\u001b[1m[ \u001b[22m\u001b[39m\u001b[36m\u001b[1mInfo: \u001b[22m\u001b[39mAdding the feasibility cut -2 x[1,3] - 2 x[1,4] - 10 x[2,5] - x[3,5] - 2 x[2,6] - 3 x[3,6] - x[4,6] - 2 x[3,7] - 4 x[5,8] - 2 x[6,8] ≤ -1\n",
      "\u001b[36m\u001b[1m[ \u001b[22m\u001b[39m\u001b[36m\u001b[1mInfo: \u001b[22m\u001b[39mAdding the feasibility cut -2 x[1,3] - 2 x[1,4] - 10 x[2,5] - x[3,5] - 2 x[3,7] - 4 x[5,8] - 6 x[6,8] ≤ -1\n",
      "\u001b[36m\u001b[1m[ \u001b[22m\u001b[39m\u001b[36m\u001b[1mInfo: \u001b[22m\u001b[39mAdding the feasibility cut -2 x[1,3] - 10 x[2,5] - x[3,5] - 2 x[3,7] - 4 x[5,8] - 6 x[6,8] ≤ -1\n",
      "\u001b[36m\u001b[1m[ \u001b[22m\u001b[39m\u001b[36m\u001b[1mInfo: \u001b[22m\u001b[39mAdding the feasibility cut -5 x[2,5] - x[3,5] - 8 x[5,8] - 6 x[6,8] - 12 x[7,8] ≤ -1\n"
     ]
    },
    {
     "name": "stdout",
     "output_type": "stream",
     "text": [
      "       29  -2.8700e+01  -7.0000e-01   4.0000e+01\n",
      "       33  -1.1200e+01  -2.0000e-01   5.5000e+01\n"
     ]
    },
    {
     "name": "stderr",
     "output_type": "stream",
     "text": [
      "\u001b[36m\u001b[1m[ \u001b[22m\u001b[39m\u001b[36m\u001b[1mInfo: \u001b[22m\u001b[39mAdding the feasibility cut -3 x[1,2] - 2 x[1,4] - 3 x[3,6] - 3 x[3,7] - 12 x[5,8] - 4 x[6,8] ≤ -1\n",
      "\u001b[36m\u001b[1m[ \u001b[22m\u001b[39m\u001b[36m\u001b[1mInfo: \u001b[22m\u001b[39mAdding the feasibility cut -3.000000000000023 x[1,2] - 4.000000000000014 x[1,3] - 4.9999999999999964 x[2,5] - 2.000000000000007 x[2,6] - 2.9999999999999956 x[3,6] - 3.000000000000006 x[4,6] - 4.000000000000077 x[5,8] - 2.3092638912203256e-14 x[6,8] - 3.9999999999999933 x[7,8] ≤ -1.0000000000000078\n",
      "\u001b[36m\u001b[1m[ \u001b[22m\u001b[39m\u001b[36m\u001b[1mInfo: \u001b[22m\u001b[39mAdding the feasibility cut -2 x[1,3] - 10 x[2,5] - x[3,5] - 3 x[2,6] - 6 x[3,6] - 3 x[4,6] - 2 x[3,7] - 4 x[5,8] ≤ -1\n",
      "\u001b[36m\u001b[1m[ \u001b[22m\u001b[39m\u001b[36m\u001b[1mInfo: \u001b[22m\u001b[39mAdding the feasibility cut -10 x[2,5] - 2 x[3,5] - 3 x[2,6] - 9 x[3,6] - 3 x[4,6] - 3 x[3,7] - 4 x[5,8] ≤ -1\n",
      "\u001b[36m\u001b[1m[ \u001b[22m\u001b[39m\u001b[36m\u001b[1mInfo: \u001b[22m\u001b[39mAdding the feasibility cut -6 x[1,4] - 10 x[2,5] - 2 x[3,5] - 3 x[2,6] - 9 x[3,6] - 3 x[3,7] - 4 x[5,8] ≤ -1\n",
      "\u001b[36m\u001b[1m[ \u001b[22m\u001b[39m\u001b[36m\u001b[1mInfo: \u001b[22m\u001b[39mAdding the feasibility cut -6 x[1,4] - 10 x[2,5] - 2 x[3,5] - 3 x[2,6] - 9 x[3,6] - 4 x[5,8] - 12 x[7,8] ≤ -1\n",
      "\u001b[36m\u001b[1m[ \u001b[22m\u001b[39m\u001b[36m\u001b[1mInfo: \u001b[22m\u001b[39mAdding the feasibility cut -6 x[1,4] - 3 x[2,6] - 9 x[3,6] - 12 x[5,8] - 12 x[7,8] ≤ -1\n",
      "\u001b[36m\u001b[1m[ \u001b[22m\u001b[39m\u001b[36m\u001b[1mInfo: \u001b[22m\u001b[39mAdding the feasibility cut -2 x[1,3] - 14.999999999999996 x[2,5] - 1.9999999999999993 x[3,5] - 1.9999999999999996 x[2,6] - 2.999999999999999 x[3,6] - 2.000000000000001 x[4,6] - 1.9999999999999993 x[3,7] - 1.9999999999999996 x[6,8] ≤ -0.9999999999999998\n",
      "\u001b[36m\u001b[1m[ \u001b[22m\u001b[39m\u001b[36m\u001b[1mInfo: \u001b[22m\u001b[39mAdding the feasibility cut -9 x[1,2] - 6 x[1,3] - 6 x[1,4] ≤ -1\n",
      "\u001b[36m\u001b[1m[ \u001b[22m\u001b[39m\u001b[36m\u001b[1mInfo: \u001b[22m\u001b[39mAdding the feasibility cut -1.9999999999999998 x[1,3] - 11.999999999999998 x[5,8] - 5.999999999999999 x[6,8] - 7.999999999999999 x[7,8] ≤ -0.9999999999999999\n",
      "\u001b[36m\u001b[1m[ \u001b[22m\u001b[39m\u001b[36m\u001b[1mInfo: \u001b[22m\u001b[39mAdding the feasibility cut -11.999999999999996 x[5,8] - 5.999999999999998 x[6,8] - 11.999999999999996 x[7,8] ≤ -0.9999999999999998\n"
     ]
    },
    {
     "name": "stdout",
     "output_type": "stream",
     "text": [
      "       34  -6.4000e+00  -2.4000e+00   1.6667e+00\n",
      "       35  -6.2000e+00  -3.2000e+00   9.3750e-01\n",
      "       36  -6.1000e+00  -4.1000e+00   4.8780e-01\n",
      "       37  -5.2000e+00  -4.2000e+00   2.3810e-01\n",
      "       38  -5.1000e+00  -2.1000e+00   1.4286e+00\n",
      "       39  -5.1000e+00  -4.1000e+00   2.4390e-01\n",
      "       40  -5.1000e+00  -5.1000e+00   0.0000e+00\n",
      "Terminating with the optimal solution\n"
     ]
    }
   ],
   "source": [
    "println(\"Iteration  Lower Bound  Upper Bound          Gap\")\n",
    "for k in 1:MAXIMUM_ITERATIONS\n",
    "    optimize!(model)\n",
    "    assert_is_solved_and_feasible(model)\n",
    "    lower_bound = objective_value(model)\n",
    "    x_k = value.(x)\n",
    "    ret = solve_subproblem_with_feasibility(subproblem, x_k)\n",
    "    if ret.is_feasible\n",
    "        # Benders Optimality Cuts\n",
    "        upper_bound = (objective_value(model) - value(θ)) + ret.obj\n",
    "        gap = abs(upper_bound - lower_bound) / abs(upper_bound)\n",
    "        print_iteration(k, lower_bound, upper_bound, gap)\n",
    "        if gap < ABSOLUTE_OPTIMALITY_GAP\n",
    "            println(\"Terminating with the optimal solution\")\n",
    "            break\n",
    "        end\n",
    "        @constraint(model, θ >= ret.obj + sum(ret.π .* (x .- x_k)))\n",
    "    else\n",
    "        # Benders Feasibility Cuts\n",
    "        cut = @constraint(model, ret.v + sum(ret.u .* (x .- x_k)) <= 0)\n",
    "        @info \"Adding the feasibility cut $(cut)\"\n",
    "    end\n",
    "end"
   ]
  },
  {
   "cell_type": "code",
   "execution_count": 77,
   "id": "5c1e5e0d",
   "metadata": {},
   "outputs": [
    {
     "data": {
      "text/plain": [
       "9-element Vector{Pair{Tuple{Int64, Int64}, Float64}}:\n",
       " (1, 2) => 3.0\n",
       " (1, 3) => 2.0\n",
       " (1, 4) => 1.0\n",
       " (2, 5) => 3.0\n",
       " (3, 5) => 1.0\n",
       " (3, 6) => 1.0\n",
       " (4, 6) => 1.0\n",
       " (5, 8) => 4.0\n",
       " (6, 8) => 2.0"
      ]
     },
     "execution_count": 77,
     "metadata": {},
     "output_type": "execute_result"
    }
   ],
   "source": [
    "optimize!(model)\n",
    "assert_is_solved_and_feasible(model)\n",
    "x_optimal = value.(x)\n",
    "optimal_ret = solve_subproblem(subproblem, x_optimal)\n",
    "feasible_inplace_solution = optimal_flows(optimal_ret.y)"
   ]
  },
  {
   "cell_type": "code",
   "execution_count": 78,
   "id": "34365847",
   "metadata": {},
   "outputs": [
    {
     "data": {
      "text/plain": [
       "true"
      ]
     },
     "execution_count": 78,
     "metadata": {},
     "output_type": "execute_result"
    }
   ],
   "source": [
    "feasible_inplace_solution == monolithic_solution"
   ]
  },
  {
   "cell_type": "code",
   "execution_count": null,
   "id": "af675851",
   "metadata": {},
   "outputs": [],
   "source": []
  },
  {
   "cell_type": "code",
   "execution_count": null,
   "id": "68f5e6b1",
   "metadata": {},
   "outputs": [],
   "source": []
  },
  {
   "cell_type": "code",
   "execution_count": null,
   "id": "33c05304",
   "metadata": {},
   "outputs": [],
   "source": []
  }
 ],
 "metadata": {
  "kernelspec": {
   "display_name": "Julia 1.10.10",
   "language": "julia",
   "name": "julia-1.10"
  },
  "language_info": {
   "file_extension": ".jl",
   "mimetype": "application/julia",
   "name": "julia",
   "version": "1.10.10"
  }
 },
 "nbformat": 4,
 "nbformat_minor": 5
}
